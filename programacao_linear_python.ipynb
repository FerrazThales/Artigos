{
  "nbformat": 4,
  "nbformat_minor": 0,
  "metadata": {
    "colab": {
      "name": "programacao_linear_python.ipynb",
      "provenance": [],
      "authorship_tag": "ABX9TyOZqTTuhDYhEtc9bsJtTlCk",
      "include_colab_link": true
    },
    "kernelspec": {
      "name": "python3",
      "display_name": "Python 3"
    },
    "language_info": {
      "name": "python"
    }
  },
  "cells": [
    {
      "cell_type": "markdown",
      "metadata": {
        "id": "view-in-github",
        "colab_type": "text"
      },
      "source": [
        "<a href=\"https://colab.research.google.com/github/FerrazThales/Artigos/blob/main/programacao_linear_python.ipynb\" target=\"_parent\"><img src=\"https://colab.research.google.com/assets/colab-badge.svg\" alt=\"Open In Colab\"/></a>"
      ]
    },
    {
      "cell_type": "markdown",
      "source": [
        "<h1 align=\"center\"><b>Encontre eu e meus projetos nas redes sociais!</b></h1>\n",
        "<table>\n",
        "  <tr>\n",
        "  <td><a href=\"https://thalesferraz.medium.com/\">\n",
        "  <img src=\"https://github.com/FerrazThales/FerrazThales/blob/main/logo_gif.gif?raw=true\" width=\"900\" title=\"Olá, Meu nome é Thales e sou cientista de Dados!\"/>\n",
        "  </a>\n",
        "  </td>\n",
        "  <td><a href=\"https://github.com/FerrazThales\">\n",
        "  <img hspace=30 vspace=110 src=\"https://image.flaticon.com/icons/png/512/1051/1051326.png\" width=\"60%\" title=\"Entre em meu Github e veja mais projetos!\" /> \n",
        "  </a>\n",
        "  </td>\n",
        "  <td>\n",
        "  <a href=\"https://thalesferraz.medium.com\">\n",
        "  <img vspace=110 src=\"https://download.logo.wine/logo/Medium_(website)/Medium_(website)-Logo.wine.png\" width=\"800\" title=\"Veja este meu projeto no Medium!\"/>\n",
        "  </a>\n",
        "  </td>\n",
        "  <td><a href=\"https://www.linkedin.com/in/thalesdefreitasferraz/\"><img vspace=150 src=\"https://cdn-icons-png.flaticon.com/512/174/174857.png\" width=\"40%\" title=\"Vamos trocar uma idéia sobre Data Science no LinkedIn?\" />\n",
        "  </a>\n",
        "  </td>\n",
        "  </tr>\n",
        "</table>"
      ],
      "metadata": {
        "id": "yzyL2K2qV_MO"
      }
    },
    {
      "cell_type": "markdown",
      "source": [
        "# A Origem da Pesquisa Operacional\n",
        "\n",
        "**Pesquisa operacional** (PO) é o termo consagrado na literatura brasileira para *Operations Research*. Em Portugal também se utiliza a expressão investigação operacional. A PO se ocupa na aplicação da metodologia **científica**, por equipes interdisciplinares, para auxiliar as tomadas de decisão nas organizações. Além disso, a PO adota um ponto de vista abrangente, uma vez que considera toda a **organização** e não apenas algumas atividades ou departamentos.\n",
        "\n",
        "Com o advento da **Primeira Revolução Industrial**, houve a substituição do trabalho de homens para o de máquinas-ferramentas e um gigantesco desenvolvimento dos sistemas nacionais de transporte e comunicação. Isto proporcionou um grande crescimento e aperfeiçoamento das organizações. Desta forma, as empresas passaram a precisar de uma maior **especialização** e **divisão** para serem administradas, um só homem já não bastava.\n",
        "\n",
        "Consequentemente houve a **divisão** dos trabalhos com outras pessoas. Então surge a figura do gerente de produção, gerente financeiro, gerente de vendas, etc. Mas o desenvolvimento da sociedade não parou por aí. O avanço da **tecnologia** trouxe novas **ferramentas** para cada uma destas novas **subfunções**. A aplicação da química e da física na produção, por exemplo, fizeram surgir os profissionais da Engenharia Química e da Engenharia Mecânica.\n",
        "\n",
        "As organizações militares também  estavam atravessando por este mesmo tipo de evolução organizacional. A grande diferença é que estas organizações tiveram de encarar a **Segunda Guerra Mundial** e rapidamente incorporar as **tecnologias** emergentes, como o radar, em seus campos táticos e estratégicos.\n",
        "\n",
        "Por conta disso, foi solicitado aos **cientistas** a realização de **pesquisas** (*Research*) sobrea as **operações** (*Operations*) militares. Com o fim da Guerra, estes cientistas passaram a aplicar seus conhecimentos fora do ambiente militar. Na Grã-Bretanha, auxiliando a reconstrução da indústria nacional e nos Estados Unidos, ajudando no aumento da produtividade das indústrias.\n",
        "\n",
        "Devido ao grande sucesso da aplicação da PO nas batalhas e nas empresas, muitas pesquisas **acadêmicas** foram direcionadas para este campo. Além disso, a revolução da **computação** proporcionou um rápido processamento dos cálculos e uma tratativa mais eficiente para problemas complexos.\n",
        "\n",
        "<p align='center'>\n",
        "<img src=\"https://img.freepik.com/fotos-gratis/trabalhadores-da-fabrica-com-mascaras-protegidas-contra-virus-corona-fazendo-controle-de-qualidade-da-producao-na-fabrica_342744-96.jpg?w=740\">\n",
        "</p>\n",
        "\n",
        "## Programação Linear\n",
        "\n",
        "A **programação linear** (PL) é uma das abordagens mais bem desenvolvidas e utilizadas dentro da Pesquisa Operacional. Ele se refere a **alocar**, da melhor forma possível, **recursos** limitados para atividades que **competem** entre si, considerando uma série de **restrições** impostas pela natureza do problema estudado. O termo **linear** surge porque os modelos matemáticos envolvidos são exclusivamente funções lineares. Já o termo **programação** é utilizado como sinônimo de planejamento. Portanto, programação linear é o planejamento ótimo das atividades obtido por meio de funções lineares.\n",
        "\n",
        "O grande desenvolvimento da programação linear ocorreu na década de 40, quando a **força aérea** americana contratou um grupo de cientistas para avaliar a viabilidade de aplicar técnicas **matemáticas** aos problemas de programação orçamentária e planejamento militar. Dentre estes cientistas, estava [George Dantzig](https://en.wikipedia.org/wiki/George_Dantzig) que colaborou ativamente para o desenvolvimento do [Método Simplex](https://www.voitto.com.br/blog/artigo/simplex), um método de solução de qualquer problema de PL. O problema de otimizar funções lineares **também** foi estudado por [Kantorovich](https://en.wikipedia.org/wiki/Leonid_Kantorovich) na antiga União Soviética.\n",
        "\n",
        "#### Hipóteses da Programação Linear\n",
        "\n",
        "Para que exista a **lineariedade** nossos problemas tem de assumir alguns pressupostos:\n",
        "\n",
        "* **Proporcionalidade**: A contribuição de cada variável de decisão é proporcional ao seu nível de atividade. Este pressuposto descarta qualquer expoente que não seja 1. Isso implica que não se considera economia de escala ou funções polinomiais.\n",
        "* **Aditividade**: A contribuição total de todas as variáveis é a soma direta das contribuições individuais. Ou seja, não existe interação entre as variáveis.\n",
        "* **Divisibilidade**: As variáveis de decisão podem assumir quaisquer valores, inclusive não-inteiros, desde que satisfaçam todas as restrições do problema.\n",
        "* **Determinismo** (Certeza): Todos os coeficientes da função objetivo e das restrições do modelo de PL são determinísticos, ou seja, são constantes conhecidas.\n",
        "\n",
        "\n",
        "# O que é o Pyomo\n",
        "\n",
        " orientado a objeto"
      ],
      "metadata": {
        "id": "oLBdJolNOz13"
      }
    },
    {
      "cell_type": "markdown",
      "source": [
        "Bom, até agora foi muito matematiquês e pouco código. Vamos pro nosso Python! 🐍\n",
        "\n",
        "Inicialmente, vamos instalar os pacotes que não são nativos do [Google Colab](https://www.alura.com.br/artigos/google-colab-o-que-e-e-como-usar). Instalaremos primeiro o Pyomo e depois o solver GLPK."
      ],
      "metadata": {
        "id": "ySyXouRbEaMh"
      }
    },
    {
      "cell_type": "code",
      "execution_count": null,
      "metadata": {
        "id": "AN0qMvjdOiAO"
      },
      "outputs": [],
      "source": [
        "#instalando o pyomo\n",
        "!pip install pyomo -q\n",
        "#instalando o solver GLPK\n",
        "!apt-get install -y -qq glpk-utils -q"
      ]
    },
    {
      "cell_type": "markdown",
      "source": [
        "Após instalados os pacotes necessários, vamos importá-los para nosso ambiente junto com outras bibliotecas que vão nos auxiliar nesta jornada!"
      ],
      "metadata": {
        "id": "tGQ_DnA9PNev"
      }
    },
    {
      "cell_type": "code",
      "source": [
        "#importando as bibliotecas necessárias\n",
        "import pyomo.environ as pyo\n",
        "from pyomo.opt import SolverFactory"
      ],
      "metadata": {
        "id": "6bQF8P7DPKjf"
      },
      "execution_count": null,
      "outputs": []
    },
    {
      "cell_type": "markdown",
      "source": [
        "## Enunciando o problema de aplicação\n",
        "\n",
        "Neste artigo, vamos trabalhar com o problema `1.7` do livro: [Operations Research Problems: Statements and Solutions](https://www.amazon.com.br/Operations-Research-Problems-Statements-Solutions-ebook/dp/B00GJDG86M/ref=sr_1_13?__mk_pt_BR=%C3%85M%C3%85%C5%BD%C3%95%C3%91&crid=PW87MQS3PLLR&keywords=operations+research&qid=1646525011&sprefix=operations+research%2Caps%2C211&sr=8-13&ufe=app_do%3Aamzn1.fos.25548f35-0de7-44b3-b28e-0f56f3f96147). Recomenda-se a compra deste livro, uma vez que ele possui inúmeros problemas e sua solução.\n",
        "\n",
        "De forma simplificada o problema é o seguinte:\n",
        "\n",
        "\n",
        "\n",
        "```\n",
        "# Isto está formatado como código\n",
        "```\n",
        "\n",
        "\n"
      ],
      "metadata": {
        "id": "z4viCFqdP094"
      }
    },
    {
      "cell_type": "markdown",
      "source": [
        "\n",
        "\n",
        "## Instanciando o modelo\n",
        "\n",
        "* abstract or concrete"
      ],
      "metadata": {
        "id": "qhcz0-VtP5QJ"
      }
    },
    {
      "cell_type": "code",
      "source": [
        "#instanciando nosso modelo\n",
        "model = pyo.ConcreteModel()"
      ],
      "metadata": {
        "id": "xRuzXUEGP41V"
      },
      "execution_count": null,
      "outputs": []
    },
    {
      "cell_type": "markdown",
      "source": [
        "## Sets\n",
        "* explicar os sets <- usar livro do pyomo"
      ],
      "metadata": {
        "id": "cERKCn6fQL1B"
      }
    },
    {
      "cell_type": "code",
      "source": [
        "#Indices\n",
        "model.i = pyo.Set(initialize=['GCA','GCB','GCC'])\n",
        "model.j = pyo.RangeSet(1,2)"
      ],
      "metadata": {
        "id": "3EeXQKiNQDMF"
      },
      "execution_count": null,
      "outputs": []
    },
    {
      "cell_type": "code",
      "source": [
        "model.pprint()"
      ],
      "metadata": {
        "colab": {
          "base_uri": "https://localhost:8080/"
        },
        "id": "MO6ebRQrUvYz",
        "outputId": "a9322300-34ee-4eb9-cc0f-b865f524091e"
      },
      "execution_count": null,
      "outputs": [
        {
          "output_type": "stream",
          "name": "stdout",
          "text": [
            "1 Set Declarations\n",
            "    i : Size=1, Index=None, Ordered=Insertion\n",
            "        Key  : Dimen : Domain : Size : Members\n",
            "        None :     1 :    Any :    3 : {'GCA', 'GCB', 'GCC'}\n",
            "\n",
            "1 RangeSet Declarations\n",
            "    j : Dimen=1, Size=2, Bounds=(1, 2)\n",
            "        Key  : Finite : Members\n",
            "        None :   True :   [1:2]\n",
            "\n",
            "2 Declarations: i j\n"
          ]
        }
      ]
    },
    {
      "cell_type": "markdown",
      "source": [
        "falar que poderiamos mudar o i tbm"
      ],
      "metadata": {
        "id": "Isp_trYEV8xZ"
      }
    },
    {
      "cell_type": "markdown",
      "source": [
        "## Parâmetros\n",
        "\n",
        "* explicar que são os dados conhecidos"
      ],
      "metadata": {
        "id": "76JpLltEQQo4"
      }
    },
    {
      "cell_type": "code",
      "source": [
        "# adicionando a quantidade de planejados\n",
        "model.planejado = pyo.Param(model.j, # dimensão do j\n",
        "                            initialize = {1:10000,2:15000}) # dicionário com os dados conhecidos"
      ],
      "metadata": {
        "id": "qLXzdGuFVe1V"
      },
      "execution_count": null,
      "outputs": []
    },
    {
      "cell_type": "markdown",
      "source": [
        "colocar os outros valores"
      ],
      "metadata": {
        "id": "FQl8oSf1VtEv"
      }
    },
    {
      "cell_type": "code",
      "source": [
        "# adicionando a quantidade produzida\n",
        "model.producao_componentes = pyo.Param(model.i, # vetor com 3 elementos\n",
        "                                       initialize={'GCA':6000, # demanda do componente GCA\n",
        "                                                   'GCB':7000, # demanda do componente GCB\n",
        "                                                   'GCC':9000}) #demanda do componente GCC\n",
        "\n",
        "# adicionando a proporcao do elemtno critico\n",
        "model.proporcao_critico = pyo.Param(model.j, # vetor com 2 elementos\n",
        "                                    initialize = {1:0.4, # 0.4 para o Componente 1\n",
        "                                                  2:0.2}) # 0.2 para o Componente 2\n",
        "\n",
        "# adicionando os dados dos custos\n",
        "model.custos = pyo.Param(model.i, # vetor com 3 elementos\n",
        "                         initialize={'GCA':125, # custos GCA\n",
        "                                            'GCB':135, # custos GCB\n",
        "                                            'GCC':155}) # custos GCC"
      ],
      "metadata": {
        "id": "q1i8_izAVe3g"
      },
      "execution_count": null,
      "outputs": []
    },
    {
      "cell_type": "markdown",
      "source": [
        "ver o pprint"
      ],
      "metadata": {
        "id": "QlFrxoEPYo2z"
      }
    },
    {
      "cell_type": "code",
      "source": [
        "model.pprint()"
      ],
      "metadata": {
        "colab": {
          "base_uri": "https://localhost:8080/"
        },
        "id": "129ez2N7Ve5m",
        "outputId": "d72e3a4f-dd50-4500-9f4a-eace2650f111"
      },
      "execution_count": null,
      "outputs": [
        {
          "output_type": "stream",
          "name": "stdout",
          "text": [
            "1 Set Declarations\n",
            "    i : Size=1, Index=None, Ordered=Insertion\n",
            "        Key  : Dimen : Domain : Size : Members\n",
            "        None :     1 :    Any :    3 : {'GCA', 'GCB', 'GCC'}\n",
            "\n",
            "1 RangeSet Declarations\n",
            "    j : Dimen=1, Size=2, Bounds=(1, 2)\n",
            "        Key  : Finite : Members\n",
            "        None :   True :   [1:2]\n",
            "\n",
            "4 Param Declarations\n",
            "    custos : Size=3, Index=i, Domain=Any, Default=None, Mutable=False\n",
            "        Key : Value\n",
            "        GCA :   125\n",
            "        GCB :   135\n",
            "        GCC :   155\n",
            "    planejado : Size=2, Index=j, Domain=Any, Default=None, Mutable=False\n",
            "        Key : Value\n",
            "          1 : 10000\n",
            "          2 : 15000\n",
            "    producao_componentes : Size=3, Index=i, Domain=Any, Default=None, Mutable=False\n",
            "        Key : Value\n",
            "        GCA :  6000\n",
            "        GCB :  7000\n",
            "        GCC :  9000\n",
            "    proporcao_critico : Size=2, Index=j, Domain=Any, Default=None, Mutable=False\n",
            "        Key : Value\n",
            "          1 :   0.4\n",
            "          2 :   0.2\n",
            "\n",
            "6 Declarations: i j planejado producao_componentes proporcao_critico custos\n"
          ]
        }
      ]
    },
    {
      "cell_type": "markdown",
      "source": [
        "e se alguém te perguntasse os custos do GCA? como acessar?"
      ],
      "metadata": {
        "id": "S1pZFyTQYsMT"
      }
    },
    {
      "cell_type": "code",
      "source": [
        "# retornando o valor de um param\n",
        "model.custos['GCA']"
      ],
      "metadata": {
        "colab": {
          "base_uri": "https://localhost:8080/"
        },
        "id": "sW9q5FBDVe7t",
        "outputId": "fcb6db92-8503-4b3a-fd8b-eed1bebb4412"
      },
      "execution_count": null,
      "outputs": [
        {
          "output_type": "execute_result",
          "data": {
            "text/plain": [
              "125"
            ]
          },
          "metadata": {},
          "execution_count": 291
        }
      ]
    },
    {
      "cell_type": "markdown",
      "source": [
        "## Variáveis\n",
        "\n",
        "* desconhecidos / usar latex / mostra com o model.pprint()"
      ],
      "metadata": {
        "id": "Qyr5iq2eQdAw"
      }
    },
    {
      "cell_type": "code",
      "source": [
        "# instanciando as variáveis\n",
        "model.x = pyo.Var(model.i, # dimensão do i\n",
        "                  model.j, # dimensão de j\n",
        "                  within = pyo.NonNegativeReals) # valoresnão negativos"
      ],
      "metadata": {
        "id": "KT3LMo8LQei9"
      },
      "execution_count": null,
      "outputs": []
    },
    {
      "cell_type": "markdown",
      "source": [
        "dar uma olhada no model.pprint"
      ],
      "metadata": {
        "id": "buK5vZz0a14w"
      }
    },
    {
      "cell_type": "code",
      "source": [
        "model.pprint()"
      ],
      "metadata": {
        "colab": {
          "base_uri": "https://localhost:8080/"
        },
        "id": "9XT3tjhlayOJ",
        "outputId": "f541c487-0572-4ca1-b28a-2a4a49b1f6d4"
      },
      "execution_count": null,
      "outputs": [
        {
          "output_type": "stream",
          "name": "stdout",
          "text": [
            "2 Set Declarations\n",
            "    i : Size=1, Index=None, Ordered=Insertion\n",
            "        Key  : Dimen : Domain : Size : Members\n",
            "        None :     1 :    Any :    3 : {'GCA', 'GCB', 'GCC'}\n",
            "    x_index : Size=1, Index=None, Ordered=True\n",
            "        Key  : Dimen : Domain : Size : Members\n",
            "        None :     2 :    i*j :    6 : {('GCA', 1), ('GCA', 2), ('GCB', 1), ('GCB', 2), ('GCC', 1), ('GCC', 2)}\n",
            "\n",
            "1 RangeSet Declarations\n",
            "    j : Dimen=1, Size=2, Bounds=(1, 2)\n",
            "        Key  : Finite : Members\n",
            "        None :   True :   [1:2]\n",
            "\n",
            "4 Param Declarations\n",
            "    custos : Size=3, Index=i, Domain=Any, Default=None, Mutable=False\n",
            "        Key : Value\n",
            "        GCA :   125\n",
            "        GCB :   135\n",
            "        GCC :   155\n",
            "    planejado : Size=2, Index=j, Domain=Any, Default=None, Mutable=False\n",
            "        Key : Value\n",
            "          1 : 10000\n",
            "          2 : 15000\n",
            "    producao_componentes : Size=3, Index=i, Domain=Any, Default=None, Mutable=False\n",
            "        Key : Value\n",
            "        GCA :  6000\n",
            "        GCB :  7000\n",
            "        GCC :  9000\n",
            "    proporcao_critico : Size=2, Index=j, Domain=Any, Default=None, Mutable=False\n",
            "        Key : Value\n",
            "          1 :   0.4\n",
            "          2 :   0.2\n",
            "\n",
            "1 Var Declarations\n",
            "    x : Size=6, Index=x_index\n",
            "        Key        : Lower : Value : Upper : Fixed : Stale : Domain\n",
            "        ('GCA', 1) :     0 :  None :  None : False :  True : NonNegativeReals\n",
            "        ('GCA', 2) :     0 :  None :  None : False :  True : NonNegativeReals\n",
            "        ('GCB', 1) :     0 :  None :  None : False :  True : NonNegativeReals\n",
            "        ('GCB', 2) :     0 :  None :  None : False :  True : NonNegativeReals\n",
            "        ('GCC', 1) :     0 :  None :  None : False :  True : NonNegativeReals\n",
            "        ('GCC', 2) :     0 :  None :  None : False :  True : NonNegativeReals\n",
            "\n",
            "8 Declarations: i j planejado producao_componentes proporcao_critico custos x_index x\n"
          ]
        }
      ]
    },
    {
      "cell_type": "markdown",
      "source": [
        "## Função objetivo\n",
        "\n",
        "explicar a importância do sense / usar latex"
      ],
      "metadata": {
        "id": "oGLiTiiHQh8c"
      }
    },
    {
      "cell_type": "code",
      "source": [
        "# instanciando a função objetivo\n",
        "'''\n",
        "O código  expr = sum(model.x[i,j] * model.custos[i] for i in model.i for j in model.j)\n",
        "\n",
        "é equivalente a:\n",
        "\n",
        "125*x[GCA,1] + 125*x[GCA,2] + 135*x[GCB,1] + 135*x[GCB,2] + 155*x[GCC,1] + 155*x[GCC,2]\n",
        "\n",
        "'''\n",
        "model.obj = pyo.Objective(sense = pyo.maximize, \n",
        "                          expr = sum(model.x[i,j] * model.custos[i] for i in model.i for j in model.j))"
      ],
      "metadata": {
        "id": "m0CLeYOBQjji"
      },
      "execution_count": null,
      "outputs": []
    },
    {
      "cell_type": "markdown",
      "source": [
        "vamos verificiar o pprint"
      ],
      "metadata": {
        "id": "eySEzXkYcg31"
      }
    },
    {
      "cell_type": "code",
      "source": [
        "model.pprint()"
      ],
      "metadata": {
        "colab": {
          "base_uri": "https://localhost:8080/"
        },
        "id": "trGyLURsbjeC",
        "outputId": "28f069aa-d768-4ed0-8c62-6ae197b3d7e7"
      },
      "execution_count": null,
      "outputs": [
        {
          "output_type": "stream",
          "name": "stdout",
          "text": [
            "2 Set Declarations\n",
            "    i : Size=1, Index=None, Ordered=Insertion\n",
            "        Key  : Dimen : Domain : Size : Members\n",
            "        None :     1 :    Any :    3 : {'GCA', 'GCB', 'GCC'}\n",
            "    x_index : Size=1, Index=None, Ordered=True\n",
            "        Key  : Dimen : Domain : Size : Members\n",
            "        None :     2 :    i*j :    6 : {('GCA', 1), ('GCA', 2), ('GCB', 1), ('GCB', 2), ('GCC', 1), ('GCC', 2)}\n",
            "\n",
            "1 RangeSet Declarations\n",
            "    j : Dimen=1, Size=2, Bounds=(1, 2)\n",
            "        Key  : Finite : Members\n",
            "        None :   True :   [1:2]\n",
            "\n",
            "4 Param Declarations\n",
            "    custos : Size=3, Index=i, Domain=Any, Default=None, Mutable=False\n",
            "        Key : Value\n",
            "        GCA :   125\n",
            "        GCB :   135\n",
            "        GCC :   155\n",
            "    planejado : Size=2, Index=j, Domain=Any, Default=None, Mutable=False\n",
            "        Key : Value\n",
            "          1 : 10000\n",
            "          2 : 15000\n",
            "    producao_componentes : Size=3, Index=i, Domain=Any, Default=None, Mutable=False\n",
            "        Key : Value\n",
            "        GCA :  6000\n",
            "        GCB :  7000\n",
            "        GCC :  9000\n",
            "    proporcao_critico : Size=2, Index=j, Domain=Any, Default=None, Mutable=False\n",
            "        Key : Value\n",
            "          1 :   0.4\n",
            "          2 :   0.2\n",
            "\n",
            "1 Var Declarations\n",
            "    x : Size=6, Index=x_index\n",
            "        Key        : Lower : Value : Upper : Fixed : Stale : Domain\n",
            "        ('GCA', 1) :     0 :  None :  None : False :  True : NonNegativeReals\n",
            "        ('GCA', 2) :     0 :  None :  None : False :  True : NonNegativeReals\n",
            "        ('GCB', 1) :     0 :  None :  None : False :  True : NonNegativeReals\n",
            "        ('GCB', 2) :     0 :  None :  None : False :  True : NonNegativeReals\n",
            "        ('GCC', 1) :     0 :  None :  None : False :  True : NonNegativeReals\n",
            "        ('GCC', 2) :     0 :  None :  None : False :  True : NonNegativeReals\n",
            "\n",
            "1 Objective Declarations\n",
            "    obj : Size=1, Index=None, Active=True\n",
            "        Key  : Active : Sense    : Expression\n",
            "        None :   True : maximize : 125*x[GCA,1] + 125*x[GCA,2] + 135*x[GCB,1] + 135*x[GCB,2] + 155*x[GCC,1] + 155*x[GCC,2]\n",
            "\n",
            "9 Declarations: i j planejado producao_componentes proporcao_critico custos x_index x obj\n"
          ]
        }
      ]
    },
    {
      "cell_type": "markdown",
      "source": [
        "## Restrições\n",
        "\n",
        "fazer de várias maneiras / usar latex"
      ],
      "metadata": {
        "id": "OBxNQoBVQj-k"
      }
    },
    {
      "cell_type": "code",
      "source": [
        "# restrição de componentes planejados para a compra\n",
        "model.rest_plan1 = pyo.Constraint(expr = sum(model.x[i,1] for i in model.i) <= model.planejado[1]) # componente 1 \n",
        "model.rest_plan2 = pyo.Constraint(expr = sum(model.x[i,2] for i in model.i) <= model.planejado[2]) # componente 2"
      ],
      "metadata": {
        "id": "09nkTXQkQlET"
      },
      "execution_count": null,
      "outputs": []
    },
    {
      "cell_type": "code",
      "source": [
        "model.pprint()"
      ],
      "metadata": {
        "colab": {
          "base_uri": "https://localhost:8080/"
        },
        "id": "XsShr6Rbfk4l",
        "outputId": "186d1274-2f00-4912-96b1-7a6d35134eec"
      },
      "execution_count": null,
      "outputs": [
        {
          "output_type": "stream",
          "name": "stdout",
          "text": [
            "2 Set Declarations\n",
            "    i : Size=1, Index=None, Ordered=Insertion\n",
            "        Key  : Dimen : Domain : Size : Members\n",
            "        None :     1 :    Any :    3 : {'GCA', 'GCB', 'GCC'}\n",
            "    x_index : Size=1, Index=None, Ordered=True\n",
            "        Key  : Dimen : Domain : Size : Members\n",
            "        None :     2 :    i*j :    6 : {('GCA', 1), ('GCA', 2), ('GCB', 1), ('GCB', 2), ('GCC', 1), ('GCC', 2)}\n",
            "\n",
            "1 RangeSet Declarations\n",
            "    j : Dimen=1, Size=2, Bounds=(1, 2)\n",
            "        Key  : Finite : Members\n",
            "        None :   True :   [1:2]\n",
            "\n",
            "4 Param Declarations\n",
            "    custos : Size=3, Index=i, Domain=Any, Default=None, Mutable=False\n",
            "        Key : Value\n",
            "        GCA :   125\n",
            "        GCB :   135\n",
            "        GCC :   155\n",
            "    planejado : Size=2, Index=j, Domain=Any, Default=None, Mutable=False\n",
            "        Key : Value\n",
            "          1 : 10000\n",
            "          2 : 15000\n",
            "    producao_componentes : Size=3, Index=i, Domain=Any, Default=None, Mutable=False\n",
            "        Key : Value\n",
            "        GCA :  6000\n",
            "        GCB :  7000\n",
            "        GCC :  9000\n",
            "    proporcao_critico : Size=2, Index=j, Domain=Any, Default=None, Mutable=False\n",
            "        Key : Value\n",
            "          1 :   0.4\n",
            "          2 :   0.2\n",
            "\n",
            "1 Var Declarations\n",
            "    x : Size=6, Index=x_index\n",
            "        Key        : Lower : Value : Upper : Fixed : Stale : Domain\n",
            "        ('GCA', 1) :     0 :  None :  None : False :  True : NonNegativeReals\n",
            "        ('GCA', 2) :     0 :  None :  None : False :  True : NonNegativeReals\n",
            "        ('GCB', 1) :     0 :  None :  None : False :  True : NonNegativeReals\n",
            "        ('GCB', 2) :     0 :  None :  None : False :  True : NonNegativeReals\n",
            "        ('GCC', 1) :     0 :  None :  None : False :  True : NonNegativeReals\n",
            "        ('GCC', 2) :     0 :  None :  None : False :  True : NonNegativeReals\n",
            "\n",
            "1 Objective Declarations\n",
            "    obj : Size=1, Index=None, Active=True\n",
            "        Key  : Active : Sense    : Expression\n",
            "        None :   True : maximize : 125*x[GCA,1] + 125*x[GCA,2] + 135*x[GCB,1] + 135*x[GCB,2] + 155*x[GCC,1] + 155*x[GCC,2]\n",
            "\n",
            "2 Constraint Declarations\n",
            "    rest_plan1 : Size=1, Index=None, Active=True\n",
            "        Key  : Lower : Body                           : Upper   : Active\n",
            "        None :  -Inf : x[GCA,1] + x[GCB,1] + x[GCC,1] : 10000.0 :   True\n",
            "    rest_plan2 : Size=1, Index=None, Active=True\n",
            "        Key  : Lower : Body                           : Upper   : Active\n",
            "        None :  -Inf : x[GCA,2] + x[GCB,2] + x[GCC,2] : 15000.0 :   True\n",
            "\n",
            "11 Declarations: i j planejado producao_componentes proporcao_critico custos x_index x obj rest_plan1 rest_plan2\n"
          ]
        }
      ]
    },
    {
      "cell_type": "markdown",
      "source": [
        "restrições por lista"
      ],
      "metadata": {
        "id": "zjpGITsTfFVV"
      }
    },
    {
      "cell_type": "code",
      "source": [
        "# instanciando uma restrição por lista\n",
        "model.rest_prod = pyo.ConstraintList()\n",
        "for i in model.i:\n",
        "  print('Estamos fazendo a restrição de:',i)\n",
        "  model.rest_prod.add(expr = sum(model.x[i,j] for j in model.j) >= model.producao_componentes[i])\n",
        "  print('-'*30)"
      ],
      "metadata": {
        "colab": {
          "base_uri": "https://localhost:8080/"
        },
        "id": "0nGf_ZExeTjA",
        "outputId": "782fee86-3222-487d-a52a-74d2e25c71e9"
      },
      "execution_count": null,
      "outputs": [
        {
          "output_type": "stream",
          "name": "stdout",
          "text": [
            "Estamos fazendo a restrição de: GCA\n",
            "------------------------------\n",
            "Estamos fazendo a restrição de: GCB\n",
            "------------------------------\n",
            "Estamos fazendo a restrição de: GCC\n",
            "------------------------------\n"
          ]
        }
      ]
    },
    {
      "cell_type": "code",
      "source": [
        "model.pprint()"
      ],
      "metadata": {
        "colab": {
          "base_uri": "https://localhost:8080/"
        },
        "id": "ZRaQHpaEeTlM",
        "outputId": "23f957ba-60c7-496d-8348-456636c03baf"
      },
      "execution_count": null,
      "outputs": [
        {
          "output_type": "stream",
          "name": "stdout",
          "text": [
            "3 Set Declarations\n",
            "    i : Size=1, Index=None, Ordered=Insertion\n",
            "        Key  : Dimen : Domain : Size : Members\n",
            "        None :     1 :    Any :    3 : {'GCA', 'GCB', 'GCC'}\n",
            "    rest_prod_index : Size=1, Index=None, Ordered=Insertion\n",
            "        Key  : Dimen : Domain : Size : Members\n",
            "        None :     1 :    Any :    3 : {1, 2, 3}\n",
            "    x_index : Size=1, Index=None, Ordered=True\n",
            "        Key  : Dimen : Domain : Size : Members\n",
            "        None :     2 :    i*j :    6 : {('GCA', 1), ('GCA', 2), ('GCB', 1), ('GCB', 2), ('GCC', 1), ('GCC', 2)}\n",
            "\n",
            "1 RangeSet Declarations\n",
            "    j : Dimen=1, Size=2, Bounds=(1, 2)\n",
            "        Key  : Finite : Members\n",
            "        None :   True :   [1:2]\n",
            "\n",
            "4 Param Declarations\n",
            "    custos : Size=3, Index=i, Domain=Any, Default=None, Mutable=False\n",
            "        Key : Value\n",
            "        GCA :   125\n",
            "        GCB :   135\n",
            "        GCC :   155\n",
            "    planejado : Size=2, Index=j, Domain=Any, Default=None, Mutable=False\n",
            "        Key : Value\n",
            "          1 : 10000\n",
            "          2 : 15000\n",
            "    producao_componentes : Size=3, Index=i, Domain=Any, Default=None, Mutable=False\n",
            "        Key : Value\n",
            "        GCA :  6000\n",
            "        GCB :  7000\n",
            "        GCC :  9000\n",
            "    proporcao_critico : Size=2, Index=j, Domain=Any, Default=None, Mutable=False\n",
            "        Key : Value\n",
            "          1 :   0.4\n",
            "          2 :   0.2\n",
            "\n",
            "1 Var Declarations\n",
            "    x : Size=6, Index=x_index\n",
            "        Key        : Lower : Value : Upper : Fixed : Stale : Domain\n",
            "        ('GCA', 1) :     0 :  None :  None : False :  True : NonNegativeReals\n",
            "        ('GCA', 2) :     0 :  None :  None : False :  True : NonNegativeReals\n",
            "        ('GCB', 1) :     0 :  None :  None : False :  True : NonNegativeReals\n",
            "        ('GCB', 2) :     0 :  None :  None : False :  True : NonNegativeReals\n",
            "        ('GCC', 1) :     0 :  None :  None : False :  True : NonNegativeReals\n",
            "        ('GCC', 2) :     0 :  None :  None : False :  True : NonNegativeReals\n",
            "\n",
            "1 Objective Declarations\n",
            "    obj : Size=1, Index=None, Active=True\n",
            "        Key  : Active : Sense    : Expression\n",
            "        None :   True : maximize : 125*x[GCA,1] + 125*x[GCA,2] + 135*x[GCB,1] + 135*x[GCB,2] + 155*x[GCC,1] + 155*x[GCC,2]\n",
            "\n",
            "3 Constraint Declarations\n",
            "    rest_plan1 : Size=1, Index=None, Active=True\n",
            "        Key  : Lower : Body                           : Upper   : Active\n",
            "        None :  -Inf : x[GCA,1] + x[GCB,1] + x[GCC,1] : 10000.0 :   True\n",
            "    rest_plan2 : Size=1, Index=None, Active=True\n",
            "        Key  : Lower : Body                           : Upper   : Active\n",
            "        None :  -Inf : x[GCA,2] + x[GCB,2] + x[GCC,2] : 15000.0 :   True\n",
            "    rest_prod : Size=3, Index=rest_prod_index, Active=True\n",
            "        Key : Lower  : Body                : Upper : Active\n",
            "          1 : 6000.0 : x[GCA,1] + x[GCA,2] :  +Inf :   True\n",
            "          2 : 7000.0 : x[GCB,1] + x[GCB,2] :  +Inf :   True\n",
            "          3 : 9000.0 : x[GCC,1] + x[GCC,2] :  +Inf :   True\n",
            "\n",
            "13 Declarations: i j planejado producao_componentes proporcao_critico custos x_index x obj rest_plan1 rest_plan2 rest_prod_index rest_prod\n"
          ]
        }
      ]
    },
    {
      "cell_type": "markdown",
      "source": [
        "restrições do elemento critico"
      ],
      "metadata": {
        "id": "u0kZR9EgZc3m"
      }
    },
    {
      "cell_type": "code",
      "source": [
        "# adicionando a restrição do elemento critico através de funções\n",
        "def Restricao_GCA(model):\n",
        "  return sum(model.x['GCA',j] * model.proporcao_critico[j] for j in model.j) >= 0.3 * sum(model.x['GCA',j] for j in model.j)\n",
        "model.rest_gca  = pyo.Constraint(rule = Restricao_GCA)"
      ],
      "metadata": {
        "id": "iKWg44SIeTnh"
      },
      "execution_count": null,
      "outputs": []
    },
    {
      "cell_type": "code",
      "source": [
        "# adicionando restrição do gcb\n",
        "model.rest_gcb = pyo.Constraint(expr = sum(model.x['GCB',j] * model.proporcao_critico[j] for j in model.j) <= 0.3 * sum(model.x['GCB',j] for j in model.j))\n",
        "\n",
        "# adicionando restrição da proporção mínima\n",
        "model.rest_gcc = pyo.Constraint(expr = model.x['GCC',1] >= 0.3 * model.x['GCC',2])"
      ],
      "metadata": {
        "id": "iby7MqoHZf3q"
      },
      "execution_count": null,
      "outputs": []
    },
    {
      "cell_type": "code",
      "source": [
        "model.pprint()"
      ],
      "metadata": {
        "colab": {
          "base_uri": "https://localhost:8080/"
        },
        "id": "1fOW5Yxjafs7",
        "outputId": "29a84738-377f-417a-f637-a5a3a9e066cf"
      },
      "execution_count": null,
      "outputs": [
        {
          "output_type": "stream",
          "name": "stdout",
          "text": [
            "3 Set Declarations\n",
            "    i : Size=1, Index=None, Ordered=Insertion\n",
            "        Key  : Dimen : Domain : Size : Members\n",
            "        None :     1 :    Any :    3 : {'GCA', 'GCB', 'GCC'}\n",
            "    rest_prod_index : Size=1, Index=None, Ordered=Insertion\n",
            "        Key  : Dimen : Domain : Size : Members\n",
            "        None :     1 :    Any :    3 : {1, 2, 3}\n",
            "    x_index : Size=1, Index=None, Ordered=True\n",
            "        Key  : Dimen : Domain : Size : Members\n",
            "        None :     2 :    i*j :    6 : {('GCA', 1), ('GCA', 2), ('GCB', 1), ('GCB', 2), ('GCC', 1), ('GCC', 2)}\n",
            "\n",
            "1 RangeSet Declarations\n",
            "    j : Dimen=1, Size=2, Bounds=(1, 2)\n",
            "        Key  : Finite : Members\n",
            "        None :   True :   [1:2]\n",
            "\n",
            "4 Param Declarations\n",
            "    custos : Size=3, Index=i, Domain=Any, Default=None, Mutable=False\n",
            "        Key : Value\n",
            "        GCA :   125\n",
            "        GCB :   135\n",
            "        GCC :   155\n",
            "    planejado : Size=2, Index=j, Domain=Any, Default=None, Mutable=False\n",
            "        Key : Value\n",
            "          1 : 10000\n",
            "          2 : 15000\n",
            "    producao_componentes : Size=3, Index=i, Domain=Any, Default=None, Mutable=False\n",
            "        Key : Value\n",
            "        GCA :  6000\n",
            "        GCB :  7000\n",
            "        GCC :  9000\n",
            "    proporcao_critico : Size=2, Index=j, Domain=Any, Default=None, Mutable=False\n",
            "        Key : Value\n",
            "          1 :   0.4\n",
            "          2 :   0.2\n",
            "\n",
            "1 Var Declarations\n",
            "    x : Size=6, Index=x_index\n",
            "        Key        : Lower : Value : Upper : Fixed : Stale : Domain\n",
            "        ('GCA', 1) :     0 :  None :  None : False :  True : NonNegativeReals\n",
            "        ('GCA', 2) :     0 :  None :  None : False :  True : NonNegativeReals\n",
            "        ('GCB', 1) :     0 :  None :  None : False :  True : NonNegativeReals\n",
            "        ('GCB', 2) :     0 :  None :  None : False :  True : NonNegativeReals\n",
            "        ('GCC', 1) :     0 :  None :  None : False :  True : NonNegativeReals\n",
            "        ('GCC', 2) :     0 :  None :  None : False :  True : NonNegativeReals\n",
            "\n",
            "1 Objective Declarations\n",
            "    obj : Size=1, Index=None, Active=True\n",
            "        Key  : Active : Sense    : Expression\n",
            "        None :   True : maximize : 125*x[GCA,1] + 125*x[GCA,2] + 135*x[GCB,1] + 135*x[GCB,2] + 155*x[GCC,1] + 155*x[GCC,2]\n",
            "\n",
            "6 Constraint Declarations\n",
            "    rest_gca : Size=1, Index=None, Active=True\n",
            "        Key  : Lower : Body                                                      : Upper : Active\n",
            "        None :  -Inf : 0.3*(x[GCA,1] + x[GCA,2]) - (0.4*x[GCA,1] + 0.2*x[GCA,2]) :   0.0 :   True\n",
            "    rest_gcb : Size=1, Index=None, Active=True\n",
            "        Key  : Lower : Body                                                    : Upper : Active\n",
            "        None :  -Inf : 0.4*x[GCB,1] + 0.2*x[GCB,2] - 0.3*(x[GCB,1] + x[GCB,2]) :   0.0 :   True\n",
            "    rest_gcc : Size=1, Index=None, Active=True\n",
            "        Key  : Lower : Body                    : Upper : Active\n",
            "        None :  -Inf : 0.3*x[GCC,2] - x[GCC,1] :   0.0 :   True\n",
            "    rest_plan1 : Size=1, Index=None, Active=True\n",
            "        Key  : Lower : Body                           : Upper   : Active\n",
            "        None :  -Inf : x[GCA,1] + x[GCB,1] + x[GCC,1] : 10000.0 :   True\n",
            "    rest_plan2 : Size=1, Index=None, Active=True\n",
            "        Key  : Lower : Body                           : Upper   : Active\n",
            "        None :  -Inf : x[GCA,2] + x[GCB,2] + x[GCC,2] : 15000.0 :   True\n",
            "    rest_prod : Size=3, Index=rest_prod_index, Active=True\n",
            "        Key : Lower  : Body                : Upper : Active\n",
            "          1 : 6000.0 : x[GCA,1] + x[GCA,2] :  +Inf :   True\n",
            "          2 : 7000.0 : x[GCB,1] + x[GCB,2] :  +Inf :   True\n",
            "          3 : 9000.0 : x[GCC,1] + x[GCC,2] :  +Inf :   True\n",
            "\n",
            "16 Declarations: i j planejado producao_componentes proporcao_critico custos x_index x obj rest_plan1 rest_plan2 rest_prod_index rest_prod rest_gca rest_gcb rest_gcc\n"
          ]
        }
      ]
    },
    {
      "cell_type": "markdown",
      "source": [
        "## Solver\n",
        "\n",
        "explicar o glpk"
      ],
      "metadata": {
        "id": "WFyhmPzpQwlS"
      }
    },
    {
      "cell_type": "code",
      "source": [
        "# instanciando o SolverFactory\n",
        "opt = SolverFactory('glpk')"
      ],
      "metadata": {
        "id": "Pn2JAFjoQx-d"
      },
      "execution_count": null,
      "outputs": []
    },
    {
      "cell_type": "code",
      "source": [
        "# aplicando o solver GLPK\n",
        "results = opt.solve(model,\n",
        "                    tee=True) # quando instanciado como True retorna"
      ],
      "metadata": {
        "colab": {
          "base_uri": "https://localhost:8080/"
        },
        "id": "tQfUanwxbguW",
        "outputId": "d25ff497-79c8-4478-bf08-561a3f66b42a"
      },
      "execution_count": null,
      "outputs": [
        {
          "output_type": "stream",
          "name": "stdout",
          "text": [
            "GLPSOL: GLPK LP/MIP Solver, v4.65\n",
            "Parameter(s) specified in the command line:\n",
            " --write /tmp/tmp3iu4cl5o.glpk.raw --wglp /tmp/tmpuwu5vuop.glpk.glp --cpxlp\n",
            " /tmp/tmpeloc4ik6.pyomo.lp\n",
            "Reading problem data from '/tmp/tmpeloc4ik6.pyomo.lp'...\n",
            "9 rows, 7 columns, 19 non-zeros\n",
            "66 lines were read\n",
            "Writing problem data to '/tmp/tmpuwu5vuop.glpk.glp'...\n",
            "53 lines were written\n",
            "GLPK Simplex Optimizer, v4.65\n",
            "9 rows, 7 columns, 19 non-zeros\n",
            "Preprocessing...\n",
            "8 rows, 6 columns, 18 non-zeros\n",
            "Scaling...\n",
            " A: min|aij| =  1.000e-01  max|aij| =  1.000e+00  ratio =  1.000e+01\n",
            "GM: min|aij| =  7.401e-01  max|aij| =  1.351e+00  ratio =  1.826e+00\n",
            "EQ: min|aij| =  5.477e-01  max|aij| =  1.000e+00  ratio =  1.826e+00\n",
            "Constructing initial basis...\n",
            "Size of triangular part is 8\n",
            "      0: obj =  -0.000000000e+00 inf =   1.872e+04 (3)\n",
            "      6: obj =   3.090000000e+06 inf =   0.000e+00 (0)\n",
            "*     9: obj =   3.555000000e+06 inf =   0.000e+00 (0)\n",
            "OPTIMAL LP SOLUTION FOUND\n",
            "Time used:   0.0 secs\n",
            "Memory used: 0.0 Mb (41927 bytes)\n",
            "Writing basic solution to '/tmp/tmp3iu4cl5o.glpk.raw'...\n",
            "25 lines were written\n"
          ]
        }
      ]
    },
    {
      "cell_type": "markdown",
      "source": [
        "### Printando os resultados\n",
        "\n",
        "explicar o for e o diferente de zero"
      ],
      "metadata": {
        "id": "f-MqyztiQyZX"
      }
    },
    {
      "cell_type": "code",
      "source": [
        "# verificando o print de cada x\n",
        "for x in model.x:\n",
        "  print(x)"
      ],
      "metadata": {
        "id": "PwyT-cEkQ1uj",
        "colab": {
          "base_uri": "https://localhost:8080/"
        },
        "outputId": "eb9a5114-62f5-4cee-e902-3e50a63f004a"
      },
      "execution_count": null,
      "outputs": [
        {
          "output_type": "stream",
          "name": "stdout",
          "text": [
            "('GCA', 1)\n",
            "('GCA', 2)\n",
            "('GCB', 1)\n",
            "('GCB', 2)\n",
            "('GCC', 1)\n",
            "('GCC', 2)\n"
          ]
        }
      ]
    },
    {
      "cell_type": "code",
      "source": [
        "# verificando quando colocamos o indice na variável\n",
        "for x in model.x:\n",
        "  print(model.x[x])"
      ],
      "metadata": {
        "id": "MYYQFdcaQ2BC",
        "colab": {
          "base_uri": "https://localhost:8080/"
        },
        "outputId": "b148ef5c-1ead-4eea-ba16-fc91421f9688"
      },
      "execution_count": null,
      "outputs": [
        {
          "output_type": "stream",
          "name": "stdout",
          "text": [
            "x[GCA,1]\n",
            "x[GCA,2]\n",
            "x[GCB,1]\n",
            "x[GCB,2]\n",
            "x[GCC,1]\n",
            "x[GCC,2]\n"
          ]
        }
      ]
    },
    {
      "cell_type": "markdown",
      "source": [
        "note que model.x [x] () retorna os valores"
      ],
      "metadata": {
        "id": "1D4YRoYYcagx"
      }
    },
    {
      "cell_type": "code",
      "source": [
        "# visualizando os resultados\n",
        "for x in model.x:\n",
        "  print(model.x[x],'=',model.x[x]())"
      ],
      "metadata": {
        "colab": {
          "base_uri": "https://localhost:8080/"
        },
        "id": "OmGq-OTxcD3g",
        "outputId": "f80b28c2-a53f-446e-ddfa-efdadeedaec6"
      },
      "execution_count": null,
      "outputs": [
        {
          "output_type": "stream",
          "name": "stdout",
          "text": [
            "x[GCA,1] = 3730.76923076923\n",
            "x[GCA,2] = 2269.23076923077\n",
            "x[GCB,1] = 3500.0\n",
            "x[GCB,2] = 3500.0\n",
            "x[GCC,1] = 2769.23076923077\n",
            "x[GCC,2] = 9230.76923076923\n"
          ]
        }
      ]
    },
    {
      "cell_type": "code",
      "source": [
        "# resultado da função obj\n",
        "print('Função objetivo = $', model.obj())"
      ],
      "metadata": {
        "colab": {
          "base_uri": "https://localhost:8080/"
        },
        "id": "spKhK-cwcpOg",
        "outputId": "da9f335c-2aa7-4fd5-d55e-f6836a829987"
      },
      "execution_count": null,
      "outputs": [
        {
          "output_type": "stream",
          "name": "stdout",
          "text": [
            "Função objetivo = $ 3555000.0\n"
          ]
        }
      ]
    },
    {
      "cell_type": "markdown",
      "source": [
        "# Considerações Finais\n",
        "\n",
        "* podemos arredondadar, excluir o zero"
      ],
      "metadata": {
        "id": "3eB0DXfJcUvU"
      }
    },
    {
      "cell_type": "markdown",
      "source": [
        "# Referências Bibliográficas\n",
        "\n",
        "\n",
        "* [História da Programação Linear](https://sites.google.com/view/programacao-linear/hist%C3%B3ria-da-programa%C3%A7%C3%A3o-linear)\n",
        "\n",
        "* LINS, Marcos; CALÔBA, Guilherme. **PROGRAMAÇÃO LINEAR**: com aplicações em teoria dos jogos e avaliação de desempenho. Rio de Janeiro: INTERCIÊNCIA, 2006.\n",
        "\n",
        "* HILLIER, Frederick; LIEBERMAN, Gerald. **INTRODUÇÃO À PESQUISA OPERACIONAL**. 9. ed.: Bookman, 2012.\n",
        "\n",
        "* ACKOFF, Russel; SASIENI, Maurice. **Pesquisa Operacional**. Rio de Janeiro: 1975.\n",
        "\n",
        "* Taha, Hamdy A., **Pesquisa Operacional**, 8a. Edição, São Paulo, Pearson, 2008"
      ],
      "metadata": {
        "id": "dtTHjjH-vR8U"
      }
    }
  ]
}