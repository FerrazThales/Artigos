{
  "nbformat": 4,
  "nbformat_minor": 0,
  "metadata": {
    "colab": {
      "name": "programacao_linear_python.ipynb",
      "provenance": [],
      "authorship_tag": "ABX9TyMe6wwV1fR5g9i0Dwcb9ERD",
      "include_colab_link": true
    },
    "kernelspec": {
      "name": "python3",
      "display_name": "Python 3"
    },
    "language_info": {
      "name": "python"
    }
  },
  "cells": [
    {
      "cell_type": "markdown",
      "metadata": {
        "id": "view-in-github",
        "colab_type": "text"
      },
      "source": [
        "<a href=\"https://colab.research.google.com/github/FerrazThales/Artigos/blob/main/programacao_linear_python.ipynb\" target=\"_parent\"><img src=\"https://colab.research.google.com/assets/colab-badge.svg\" alt=\"Open In Colab\"/></a>"
      ]
    },
    {
      "cell_type": "markdown",
      "source": [
        "<h1 align=\"center\"><b>Encontre eu e meus projetos nas redes sociais!</b></h1>\n",
        "<table>\n",
        "  <tr>\n",
        "  <td><a href=\"https://thalesferraz.medium.com/\">\n",
        "  <img src=\"https://github.com/FerrazThales/FerrazThales/blob/main/logo_gif.gif?raw=true\" width=\"900\" title=\"Olá, Meu nome é Thales e sou cientista de Dados!\"/>\n",
        "  </a>\n",
        "  </td>\n",
        "  <td><a href=\"https://github.com/FerrazThales\">\n",
        "  <img hspace=30 vspace=110 src=\"https://image.flaticon.com/icons/png/512/1051/1051326.png\" width=\"60%\" title=\"Entre em meu Github e veja mais projetos!\" /> \n",
        "  </a>\n",
        "  </td>\n",
        "  <td>\n",
        "  <a href=\"https://thalesferraz.medium.com\">\n",
        "  <img vspace=110 src=\"https://download.logo.wine/logo/Medium_(website)/Medium_(website)-Logo.wine.png\" width=\"800\" title=\"Veja este meu projeto no Medium!\"/>\n",
        "  </a>\n",
        "  </td>\n",
        "  <td><a href=\"https://www.linkedin.com/in/thalesdefreitasferraz/\"><img vspace=150 src=\"https://cdn-icons-png.flaticon.com/512/174/174857.png\" width=\"40%\" title=\"Vamos trocar uma idéia sobre Data Science no LinkedIn?\" />\n",
        "  </a>\n",
        "  </td>\n",
        "  </tr>\n",
        "</table>"
      ],
      "metadata": {
        "id": "yzyL2K2qV_MO"
      }
    },
    {
      "cell_type": "markdown",
      "source": [
        "# O que você vai aprender neste artigo: \n",
        "\n",
        "* O que é Pesquisa Operacional e Programação Linear.\n",
        "* Como utilizar o **Pyomo** em problemas de **Programação Linear**.\n",
        "* Como utilizar o Solver **GLPK** para resolver os problemas de Programação Linear.\n",
        "\n",
        "# A Origem da Pesquisa Operacional\n",
        "\n",
        "**Pesquisa operacional** (PO) é o termo consagrado na literatura brasileira para *Operations Research*. Em Portugal também se utiliza a expressão investigação operacional. A PO se ocupa na aplicação da metodologia **científica**, por equipes interdisciplinares, para auxiliar as tomadas de decisão nas organizações. Além disso, a PO adota um ponto de vista abrangente, uma vez que considera toda a **organização** e não apenas algumas atividades ou departamentos.\n",
        "\n",
        "Com o advento da **Primeira Revolução Industrial**, houve a substituição do trabalho de homens para o de máquinas-ferramentas e um gigantesco desenvolvimento dos sistemas nacionais de transporte e comunicação. Isto proporcionou um grande crescimento e aperfeiçoamento das organizações. Desta forma, as empresas passaram a precisar de uma maior **especialização** e **divisão** para serem administradas, um só homem já não bastava.\n",
        "\n",
        "Consequentemente houve a **divisão** dos trabalhos com outras pessoas. Então surge a figura do gerente de produção, gerente financeiro, gerente de vendas, etc. Mas o desenvolvimento da sociedade não parou por aí. O avanço da **tecnologia** trouxe novas **ferramentas** para cada uma destas novas **subfunções**. A aplicação da química e da física na produção, por exemplo, fizeram surgir os profissionais da Engenharia Química e da Engenharia Mecânica.\n",
        "\n",
        "As organizações militares também  estavam atravessando por este mesmo tipo de evolução organizacional. A grande diferença é que estas organizações tiveram de encarar a **Segunda Guerra Mundial** e rapidamente incorporar as **tecnologias** emergentes, como o radar, em seus campos táticos e estratégicos.\n",
        "\n",
        "Por conta disso, foi solicitado aos **cientistas** a realização de **pesquisas** (*Research*) sobrea as **operações** (*Operations*) militares. Com o fim da Guerra, estes cientistas passaram a aplicar seus conhecimentos fora do ambiente militar. Na Grã-Bretanha, auxiliando a reconstrução da indústria nacional e nos Estados Unidos, ajudando no aumento da produtividade das indústrias.\n",
        "\n",
        "Devido ao grande sucesso da aplicação da PO nas batalhas e nas empresas, muitas pesquisas **acadêmicas** foram direcionadas para este campo. Além disso, a revolução da **computação** proporcionou um rápido processamento dos cálculos e uma tratativa mais eficiente para problemas complexos.\n",
        "\n",
        "<p align='center'>\n",
        "<img src=\"https://img.freepik.com/fotos-gratis/trabalhadores-da-fabrica-com-mascaras-protegidas-contra-virus-corona-fazendo-controle-de-qualidade-da-producao-na-fabrica_342744-96.jpg?w=740\">\n",
        "</p>\n",
        "\n",
        "## Programação Linear\n",
        "\n",
        "A **programação linear** (PL) é uma das abordagens mais bem desenvolvidas e utilizadas dentro da Pesquisa Operacional. Ele se refere a **alocar**, da melhor forma possível, **recursos** limitados para atividades que **competem** entre si, considerando uma série de **restrições** impostas pela natureza do problema estudado. O termo **linear** surge porque os modelos matemáticos envolvidos são exclusivamente funções lineares. Já o termo **programação** é utilizado como sinônimo de planejamento. Portanto, programação linear é o planejamento ótimo das atividades obtido por meio de funções lineares.\n",
        "\n",
        "O grande desenvolvimento da programação linear ocorreu na década de 40, quando a **força aérea** americana contratou um grupo de cientistas para avaliar a viabilidade de aplicar técnicas **matemáticas** aos problemas de programação orçamentária e planejamento militar. Dentre estes cientistas, estava [George Dantzig](https://en.wikipedia.org/wiki/George_Dantzig) que colaborou ativamente para o desenvolvimento do [Método Simplex](https://www.voitto.com.br/blog/artigo/simplex), um método de solução de qualquer problema de PL. O problema de otimizar funções lineares **também** foi estudado por [Kantorovich](https://en.wikipedia.org/wiki/Leonid_Kantorovich) na antiga União Soviética.\n",
        "\n",
        "#### Hipóteses da Programação Linear\n",
        "\n",
        "Para que exista a **linearidade** nossos problemas tem de assumir alguns pressupostos:\n",
        "\n",
        "* **Proporcionalidade**: A contribuição de cada variável de decisão é proporcional ao seu nível de atividade. Este pressuposto descarta qualquer expoente que não seja 1. Isso implica que não se considera economia de escala ou funções polinomiais.\n",
        "* **Aditividade**: A contribuição total de todas as variáveis é a soma direta das contribuições individuais. Ou seja, não existe interação entre as variáveis.\n",
        "* **Divisibilidade**: As variáveis de decisão podem assumir quaisquer valores, inclusive não-inteiros, desde que satisfaçam todas as restrições do problema.\n",
        "* **Determinismo** (Certeza): Todos os coeficientes da função objetivo e das restrições do modelo de PL são determinísticos, ou seja, são constantes conhecidas.\n",
        "\n",
        "# O que é o Pyomo\n",
        "\n",
        "<p align='center'>\n",
        "<img src=\"https://pyomo.readthedocs.io/en/stable/_images/PyomoNewBlue3.png\" width=\"50%\">\n",
        "</p>\n",
        "\n",
        "\n",
        "O [Pyomo](http://www.pyomo.org/about) - **Py**thon **O**ptimization **M**odeling **O**bjects -  é uma ferramenta open-source desenvolvida pela *Sandia National Laboratories* para modelagem matemática. O core (ideia central) do Pyomo é ser um pacote construído em cima dos conceitos de [orientação a objeto](https://www.alura.com.br/artigos/poo-programacao-orientada-a-objetos) para representar modelos complexos de otimização. Ele é uma plataforma extremamente flexível que pode ser utilizada com diversos [Solver](https://en.wikipedia.org/wiki/Solver).\n",
        "\n",
        "De forma resumida, o *Pyomo* é quem vai traduzir nosso problema matemático na \"linguagem\" do solver para que ele possa resolvê-lo.\n",
        "\n",
        "\n",
        "Pronto, depois de tudo introduzido é a hora de dizer o objetivo deste artigo: **explicar o passo a passo da resolução de um problema de programação linear, apontando os vários parâmetros e métodos que existem neste excelente pacote que é o Pyomo**.\n",
        "\n",
        "\n",
        "Bom, até agora foi muito matematiquês e pouco código. Vamos pro nosso Python! 🐍\n",
        "\n",
        "Inicialmente, vamos instalar os pacotes que não são nativos do [Google Colab](https://www.alura.com.br/artigos/google-colab-o-que-e-e-como-usar). Instalaremos primeiro o Pyomo e depois o solver GLPK."
      ],
      "metadata": {
        "id": "oLBdJolNOz13"
      }
    },
    {
      "cell_type": "code",
      "execution_count": 1,
      "metadata": {
        "id": "AN0qMvjdOiAO",
        "colab": {
          "base_uri": "https://localhost:8080/"
        },
        "outputId": "a8d049cc-e8ce-425b-8b48-ddf4ff964d05"
      },
      "outputs": [
        {
          "output_type": "stream",
          "name": "stdout",
          "text": [
            "\u001b[K     |████████████████████████████████| 9.6 MB 15.1 MB/s \n",
            "\u001b[K     |████████████████████████████████| 49 kB 6.0 MB/s \n",
            "\u001b[?25hSelecting previously unselected package libsuitesparseconfig5:amd64.\n",
            "(Reading database ... 155332 files and directories currently installed.)\n",
            "Preparing to unpack .../libsuitesparseconfig5_1%3a5.1.2-2_amd64.deb ...\n",
            "Unpacking libsuitesparseconfig5:amd64 (1:5.1.2-2) ...\n",
            "Selecting previously unselected package libamd2:amd64.\n",
            "Preparing to unpack .../libamd2_1%3a5.1.2-2_amd64.deb ...\n",
            "Unpacking libamd2:amd64 (1:5.1.2-2) ...\n",
            "Selecting previously unselected package libcolamd2:amd64.\n",
            "Preparing to unpack .../libcolamd2_1%3a5.1.2-2_amd64.deb ...\n",
            "Unpacking libcolamd2:amd64 (1:5.1.2-2) ...\n",
            "Selecting previously unselected package libglpk40:amd64.\n",
            "Preparing to unpack .../libglpk40_4.65-1_amd64.deb ...\n",
            "Unpacking libglpk40:amd64 (4.65-1) ...\n",
            "Selecting previously unselected package glpk-utils.\n",
            "Preparing to unpack .../glpk-utils_4.65-1_amd64.deb ...\n",
            "Unpacking glpk-utils (4.65-1) ...\n",
            "Setting up libsuitesparseconfig5:amd64 (1:5.1.2-2) ...\n",
            "Setting up libcolamd2:amd64 (1:5.1.2-2) ...\n",
            "Setting up libamd2:amd64 (1:5.1.2-2) ...\n",
            "Setting up libglpk40:amd64 (4.65-1) ...\n",
            "Setting up glpk-utils (4.65-1) ...\n",
            "Processing triggers for libc-bin (2.27-3ubuntu1.3) ...\n",
            "/sbin/ldconfig.real: /usr/local/lib/python3.7/dist-packages/ideep4py/lib/libmkldnn.so.0 is not a symbolic link\n",
            "\n",
            "Processing triggers for man-db (2.8.3-2ubuntu0.1) ...\n"
          ]
        }
      ],
      "source": [
        "#instalando o pyomo\n",
        "!pip install pyomo -q\n",
        "#instalando o solver GLPK\n",
        "!apt-get install -y -qq glpk-utils -q"
      ]
    },
    {
      "cell_type": "markdown",
      "source": [
        "Após instalados os pacotes necessários, vamos importá-los para nosso ambiente e iniciar nossa jornada!"
      ],
      "metadata": {
        "id": "tGQ_DnA9PNev"
      }
    },
    {
      "cell_type": "code",
      "source": [
        "#importando os módulos necessários\n",
        "import pyomo.environ as pyo\n",
        "from pyomo.opt import SolverFactory"
      ],
      "metadata": {
        "id": "6bQF8P7DPKjf"
      },
      "execution_count": 2,
      "outputs": []
    },
    {
      "cell_type": "markdown",
      "source": [
        "## Enunciando o problema de aplicação\n",
        "\n",
        "Neste artigo, vamos trabalhar com o problema `1.7` do livro: [Operations Research Problems: Statements and Solutions](https://www.amazon.com.br/Operations-Research-Problems-Statements-Solutions-ebook/dp/B00GJDG86M/ref=sr_1_13?__mk_pt_BR=%C3%85M%C3%85%C5%BD%C3%95%C3%91&crid=PW87MQS3PLLR&keywords=operations+research&qid=1646525011&sprefix=operations+research%2Caps%2C211&sr=8-13&ufe=app_do%3Aamzn1.fos.25548f35-0de7-44b3-b28e-0f56f3f96147). Recomenda-se a **compra** deste livro, uma vez que ele possui inúmeros problemas de pesquisa operacional e sua solução detalhada.\n",
        "\n",
        "De forma simplificada o problema é o seguinte:\n",
        "\n",
        "\n",
        "\n",
        "```\n",
        "Uma fábrica de produtos químicos de Milão produz cosméticos. Está sendo planejada a produção de três tipos de produtos: GCA, GCB e GCC; \n",
        "misturando-se dois tipos de componentes: C1 e C2. Ao final de toda produção, deve-se conter ao menos um dos componentes em cada produto.\n",
        "\n",
        "Para esta produção, estão disponíveis 10 mil L de C1 e 15 mil L de C2. Além disso, existe uma demanda mínima para cada tipo de produto: \n",
        "GCA: 6000 L, GCB: 7000 L e GCC 9000 L. Assume-se que quando os componentes químicos são misturados não há perda ou ganho de volume.\n",
        "\n",
        "Cada componente químico, tem uma proporção de elemento crítico (0.4 para o C1 e 0.2 para o C2). Para obter o GCA, a mistura a mistura deve \n",
        "conter ao menos 30% do elemento crítico. Já para obter o GCB, deve-se conter no máximo 30% do elemento crítico. Por fim, para o produto GCC a \n",
        "proporção mínima entre os componentes C1 e C2 deve ser de 0.3.\n",
        "\n",
        "Os lucros esperados para cada litro do produto vendido é de $ 125 para o GCA, $ 135 para o GCB e $ 155 para o GCC.\n",
        "\n",
        "```\n",
        "\n",
        "\n"
      ],
      "metadata": {
        "id": "z4viCFqdP094"
      }
    },
    {
      "cell_type": "markdown",
      "source": [
        "## Ideia Geral do Pyomo\n",
        "\n",
        "Devido a estrutura **orientada a objeto** do *Pyomo*, podemos sintetizar esta biblioteca da seguinte maneira:\n",
        "\n",
        "<p align='center'>\n",
        "<img src=\"https://github.com/FerrazThales/Artigos/blob/main/PL_Pyomo/pyomo.drawio%20(1).png?raw=true\" width=\"70%\">\n",
        "</p>\n",
        "\n",
        "Primeiro é necessário **instanciar** nosso modelo e a partir disso, ir **acrescentando** os diferentes objetos, um processo que lembra um pouco a construção de ferramentas com **LEGO**. Cada um destes objetos serão melhores explorados nos tópicos seguintes."
      ],
      "metadata": {
        "id": "JvQmlKwivrAD"
      }
    },
    {
      "cell_type": "markdown",
      "source": [
        "## Instanciando o modelo\n",
        "\n",
        "Este passo é obrigatório na resolução de todos os problemas. No *Pyomo*,podemos instanciar dois tipos de modelos:\n",
        "* **AbstractModel**: Quando utilizamos apenas valores não especificados, ou seja, apenas símbolos matemáticos e os dados serão inputados posteriormente.\n",
        "* **ConcreteModel**: Quando os valores já foram fornecidos (nosso caso 😀) durante a definição do problema.\n",
        "\n",
        "<p align='center'>\n",
        "<img src=\"https://github.com/FerrazThales/Artigos/blob/main/PL_Pyomo/pyomo.drawio%20(2).png?raw=true\" width='40%'>\n",
        "</p>"
      ],
      "metadata": {
        "id": "qhcz0-VtP5QJ"
      }
    },
    {
      "cell_type": "code",
      "source": [
        "# instanciando nosso modelo\n",
        "model = pyo.ConcreteModel()"
      ],
      "metadata": {
        "id": "xRuzXUEGP41V"
      },
      "execution_count": 3,
      "outputs": []
    },
    {
      "cell_type": "markdown",
      "source": [
        "## Sets\n",
        "\n",
        "Se retornarmos ao nosso problema inicial (o da fábrica de cosméticos) vamos perceber que podemos separar as variáveis de decisão em dois tipos de **índices**: os dos produtos e o dos componentes.\n",
        "\n",
        "Para criar este tipo de **índice**, podemos utilizar o método `pyo.Set()`. Neste exemplo, eu chamei de `model.i` os que se referem aos **produtos** e `model.j` os que se referem aos **componentes**. Note que no `model.j` eu utilizei o método pyo.`RangeSet()` e coloquei o intervalo que vai de 1 a 2, ou seja, C1 e C2.\n",
        "\n",
        "Outro ponto importante a ressaltar é que você pode utilizar **números** ou **strings** (texto) como índice. Eu fiz isso propositalmente em cada um de nossos Sets.\n",
        "\n",
        "<p align='center'>\n",
        "<img src=\"https://github.com/FerrazThales/Artigos/blob/main/PL_Pyomo/pyomo.drawio%20(4).png?raw=true\" width='40%'>\n",
        "</p>"
      ],
      "metadata": {
        "id": "cERKCn6fQL1B"
      }
    },
    {
      "cell_type": "code",
      "source": [
        "#Indices\n",
        "model.i = pyo.Set(initialize=['GCA','GCB','GCC']) # inicializamos porque utilizamos um ConcreteModel\n",
        "model.j = pyo.RangeSet(1,2) # Nosso range vai de 1 até 2"
      ],
      "metadata": {
        "id": "3EeXQKiNQDMF"
      },
      "execution_count": 4,
      "outputs": []
    },
    {
      "cell_type": "markdown",
      "source": [
        "## Parâmetros\n",
        "\n",
        "Comentamos lá em cima que utilizamos o *ConcreteModel* porque os valores já nos foram **dados** no exercício. Precisamos colocar estes valores (como os dos lucros, por exemplo) dentro de nosso **modelo**. Por conta disso, utilizamos a classe `Param` do *Pyomo*.\n",
        "\n",
        "Note no código abaixo que, às vezes, precisamos passar a **dimensão** do parâmetro. Para os valores que estarão disponíveis de cada componente, por exemplo, passamos a dimensão `model.j`. Isso significa que a variável `model.planejado` vai ser um **vetor** com 2 elementos, cada um representando o quanto de material de cada **componente** a empresa terá.\n",
        "\n",
        "<p align='center'>\n",
        "<img src=\"https://github.com/FerrazThales/Artigos/blob/main/PL_Pyomo/pyomo.drawio%20(3).png?raw=true\" width='40%'>\n",
        "</p>"
      ],
      "metadata": {
        "id": "76JpLltEQQo4"
      }
    },
    {
      "cell_type": "code",
      "source": [
        "# adicionando a quantidade de componentes\n",
        "model.planejado = pyo.Param(model.j, # dimensão do j\n",
        "                            initialize = {1:10000,2:15000}) # dicionário com os dados conhecidos"
      ],
      "metadata": {
        "id": "qLXzdGuFVe1V"
      },
      "execution_count": 5,
      "outputs": []
    },
    {
      "cell_type": "markdown",
      "source": [
        "Bem, agora que colocamos os valores referentes aos componentes, precisamos adicionar os **demais** dados fornecidos no exercício. É importante ressaltar que precisamos utilizar o *initialize* porque escolhemos o *ConcreteModel*. Desta forma, nosso modelo já espera receber alguns valores, estamos **inicializando** com os valores dados. \n",
        "\n",
        "Além disso, perceba que quando passo a **dimensão** `model.i` é necesário passar um **dicionário** correspondente a cada produto. Ou seja, GCA = 6000, GCB =  7000, etc. Se utilizássemos outros valores no dicionário (**GCD**, por exemplo) o *Pyomo* apontaria que existem erros."
      ],
      "metadata": {
        "id": "FQl8oSf1VtEv"
      }
    },
    {
      "cell_type": "code",
      "source": [
        "# adicionando a quantidade produzida\n",
        "model.producao_componentes = pyo.Param(model.i, # vetor com 3 elementos\n",
        "                                       initialize={'GCA':6000, # demanda do componente GCA\n",
        "                                                   'GCB':7000, # demanda do componente GCB\n",
        "                                                   'GCC':9000})# demanda do componente GCC\n",
        "\n",
        "# adicionando a proporcao do elemento critico\n",
        "model.proporcao_critico = pyo.Param(model.j, # vetor com 2 elementos\n",
        "                                    initialize = {1:0.4, # 0.4 para o Componente 1\n",
        "                                                  2:0.2})# 0.2 para o Componente 2\n",
        "\n",
        "# adicionando os dados relacionados aos lucros\n",
        "model.lucro = pyo.Param(model.i, # vetor com 3 elementos\n",
        "                         initialize={'GCA':125, # lucro GCA\n",
        "                                            'GCB':135, # lucro GCB\n",
        "                                            'GCC':155}) # lucro GCC"
      ],
      "metadata": {
        "id": "q1i8_izAVe3g"
      },
      "execution_count": 6,
      "outputs": []
    },
    {
      "cell_type": "markdown",
      "source": [
        "Já instanciamos o modelo, adicionamos alguns sets e parâmetros. Uma maneira interessante de verificar o que **contém** no modelo é utilizando o método `model.pprint()`. Nele é possível visualizar **todos** os valores já adicionados em suas respectivas classes."
      ],
      "metadata": {
        "id": "QlFrxoEPYo2z"
      }
    },
    {
      "cell_type": "code",
      "source": [
        "# visualizando o que foi adicionado no modelo\n",
        "model.pprint()"
      ],
      "metadata": {
        "colab": {
          "base_uri": "https://localhost:8080/"
        },
        "id": "129ez2N7Ve5m",
        "outputId": "1da68bdc-a35b-4d7c-e056-3f2392352620"
      },
      "execution_count": 7,
      "outputs": [
        {
          "output_type": "stream",
          "name": "stdout",
          "text": [
            "1 Set Declarations\n",
            "    i : Size=1, Index=None, Ordered=Insertion\n",
            "        Key  : Dimen : Domain : Size : Members\n",
            "        None :     1 :    Any :    3 : {'GCA', 'GCB', 'GCC'}\n",
            "\n",
            "1 RangeSet Declarations\n",
            "    j : Dimen=1, Size=2, Bounds=(1, 2)\n",
            "        Key  : Finite : Members\n",
            "        None :   True :   [1:2]\n",
            "\n",
            "4 Param Declarations\n",
            "    lucro : Size=3, Index=i, Domain=Any, Default=None, Mutable=False\n",
            "        Key : Value\n",
            "        GCA :   125\n",
            "        GCB :   135\n",
            "        GCC :   155\n",
            "    planejado : Size=2, Index=j, Domain=Any, Default=None, Mutable=False\n",
            "        Key : Value\n",
            "          1 : 10000\n",
            "          2 : 15000\n",
            "    producao_componentes : Size=3, Index=i, Domain=Any, Default=None, Mutable=False\n",
            "        Key : Value\n",
            "        GCA :  6000\n",
            "        GCB :  7000\n",
            "        GCC :  9000\n",
            "    proporcao_critico : Size=2, Index=j, Domain=Any, Default=None, Mutable=False\n",
            "        Key : Value\n",
            "          1 :   0.4\n",
            "          2 :   0.2\n",
            "\n",
            "6 Declarations: i j planejado producao_componentes proporcao_critico lucro\n"
          ]
        }
      ]
    },
    {
      "cell_type": "markdown",
      "source": [
        "Mas e se alguém te perguntasse os lucros associados a cada litro do GCA? Como você **acessaria** esta resposta? Uma maneira seria utilizando o código abaixo."
      ],
      "metadata": {
        "id": "S1pZFyTQYsMT"
      }
    },
    {
      "cell_type": "code",
      "source": [
        "# retornando o valor de um param\n",
        "model.lucro['GCA']"
      ],
      "metadata": {
        "colab": {
          "base_uri": "https://localhost:8080/"
        },
        "id": "sW9q5FBDVe7t",
        "outputId": "ab2b1760-febe-4286-e581-a79a20e3d44d"
      },
      "execution_count": 8,
      "outputs": [
        {
          "output_type": "execute_result",
          "data": {
            "text/plain": [
              "125"
            ]
          },
          "metadata": {},
          "execution_count": 8
        }
      ]
    },
    {
      "cell_type": "markdown",
      "source": [
        "## Variáveis\n",
        "\n",
        "Agora chegou a hora de lidarmos com aquilo que é **desconhecido**. As variáveis que queremos que o **solver** resolva para descobrirmos qual será o lucro **ótimo**. Repare que no código abaixo foram passadas **duas** dimensões, a dos produtos e a dos componentes. Além disso, utilizamos o parâmetro `within` para especificar o **domínio** dos valores das nossas variáveis, neste caso só serão aceitos valores **reais** não-negativos (*NonNegativeReals*).\n",
        "\n",
        "Por conta disso, podemos representar nossas [variáveis de decisão](https://www.ibm.com/docs/pt-br/icos/12.9.0?topic=types-decision-variables) da seguinte forma:\n",
        "\n",
        "* ${Xij}$: Representando a quantidade de componente j no produto i.\n",
        "\n",
        "**Obs: No tópico Predefined Virtual Sets da [documentação do Pyomo](https://pyomo.readthedocs.io/en/stable/pyomo_modeling_components/Sets.html#predefined-virtual-sets) você encontra outros domínios para colocar em suas variáveis, como *Integers* ou *Binary*.**\n",
        "\n",
        "<p align='center'>\n",
        "<img src=\"https://github.com/FerrazThales/Artigos/blob/main/PL_Pyomo/pyomo.drawio%20(5).png?raw=true\" width='40%'>\n",
        "</p>"
      ],
      "metadata": {
        "id": "Qyr5iq2eQdAw"
      }
    },
    {
      "cell_type": "code",
      "source": [
        "# instanciando as variáveis\n",
        "model.x = pyo.Var(model.i, # dimensão do i (produtos)\n",
        "                  model.j, # dimensão de j (componentes)\n",
        "                  within = pyo.NonNegativeReals) # valores não negativos"
      ],
      "metadata": {
        "id": "KT3LMo8LQei9"
      },
      "execution_count": 9,
      "outputs": []
    },
    {
      "cell_type": "markdown",
      "source": [
        "Show! Para acessar apenas uma **classe** de nosso modelo podemos utilizar o código abaixo. A partir disso, podemos verificar como o modelo está interpretando **cada** uma de nossas variáveis *x*."
      ],
      "metadata": {
        "id": "buK5vZz0a14w"
      }
    },
    {
      "cell_type": "code",
      "source": [
        "# acessando apenas uma classe, a do model.x\n",
        "model.x.pprint()"
      ],
      "metadata": {
        "colab": {
          "base_uri": "https://localhost:8080/"
        },
        "id": "9XT3tjhlayOJ",
        "outputId": "63eed053-54d7-4473-bd84-471a152cb783"
      },
      "execution_count": 10,
      "outputs": [
        {
          "output_type": "stream",
          "name": "stdout",
          "text": [
            "x : Size=6, Index=x_index\n",
            "    Key        : Lower : Value : Upper : Fixed : Stale : Domain\n",
            "    ('GCA', 1) :     0 :  None :  None : False :  True : NonNegativeReals\n",
            "    ('GCA', 2) :     0 :  None :  None : False :  True : NonNegativeReals\n",
            "    ('GCB', 1) :     0 :  None :  None : False :  True : NonNegativeReals\n",
            "    ('GCB', 2) :     0 :  None :  None : False :  True : NonNegativeReals\n",
            "    ('GCC', 1) :     0 :  None :  None : False :  True : NonNegativeReals\n",
            "    ('GCC', 2) :     0 :  None :  None : False :  True : NonNegativeReals\n"
          ]
        }
      ]
    },
    {
      "cell_type": "markdown",
      "source": [
        "## Função Objetivo\n",
        "\n",
        "Após definir nossas **variáveis de decisão**, é preciso declarar nossa **função objetivo**, ou seja, aquilo que queremos otimizar. Em nosso caso, é encontrar o **máximo** lucro considerando todas estas variáveis. **Matematicamente** podemos expressar a função objetivo da seguinte maneira:\n",
        "\n",
        "<p align='center'>\n",
        "$max  \\sum Xij \\times Li$\n",
        "</p>\n",
        "\n",
        "* Onde $Li$ é o **lucro** referente a cada tipo de **produto**.\n",
        "\n",
        "Note que no código abaixo, quando utilizamos a classe `Objective` precisamos passar o parâmetro `sense`. É nele que definimos se nossa função objetivo é de **maximização** (`pyo.maximize`) ou **minimização** (`pyo.minimize`). Além disso, podemos utilizar o parâmetro `expr` para passar o somatório que foi exemplificado matematicamente acima.\n",
        "\n",
        "Repare que é preciso utilizar o `sum()` e um loop *for* para **iterar** com cada variável e parâmetro do nosso problema.\n",
        "\n",
        "\n",
        "<p align='center'>\n",
        "<img src=\"https://github.com/FerrazThales/Artigos/blob/main/PL_Pyomo/pyomo.drawio%20(6).png?raw=true\" width='40%'>\n",
        "</p>"
      ],
      "metadata": {
        "id": "oGLiTiiHQh8c"
      }
    },
    {
      "cell_type": "code",
      "source": [
        "# instanciando a função objetivo\n",
        "'''\n",
        "O código  expr = sum(model.x[i,j] * model.custos[i] for i in model.i for j in model.j)\n",
        "\n",
        "é equivalente a:\n",
        "\n",
        "125*x[GCA,1] + 125*x[GCA,2] + 135*x[GCB,1] + 135*x[GCB,2] + 155*x[GCC,1] + 155*x[GCC,2]\n",
        "\n",
        "'''\n",
        "model.obj = pyo.Objective(sense = pyo.maximize, # maximizar a função objetivo\n",
        "                          expr = sum(model.x[i,j] * model.lucro[i] for i in model.i for j in model.j))"
      ],
      "metadata": {
        "id": "m0CLeYOBQjji"
      },
      "execution_count": 11,
      "outputs": []
    },
    {
      "cell_type": "markdown",
      "source": [
        "Dando uma olhada **apenas** na classe referente a função objetivo:"
      ],
      "metadata": {
        "id": "eySEzXkYcg31"
      }
    },
    {
      "cell_type": "code",
      "source": [
        "# visualizando apenas o model.obj\n",
        "model.obj.pprint()"
      ],
      "metadata": {
        "colab": {
          "base_uri": "https://localhost:8080/"
        },
        "id": "trGyLURsbjeC",
        "outputId": "bf829525-895c-4eca-8abd-76db79cd34ae"
      },
      "execution_count": 12,
      "outputs": [
        {
          "output_type": "stream",
          "name": "stdout",
          "text": [
            "obj : Size=1, Index=None, Active=True\n",
            "    Key  : Active : Sense    : Expression\n",
            "    None :   True : maximize : 125*x[GCA,1] + 125*x[GCA,2] + 135*x[GCB,1] + 135*x[GCB,2] + 155*x[GCC,1] + 155*x[GCC,2]\n"
          ]
        }
      ]
    },
    {
      "cell_type": "markdown",
      "source": [
        "## Restrições\n",
        "\n",
        "Definimos nossas variáveis de decisão e a função de maximização dos lucros. Mas nem tudo é um mar de rosas. Existem **restrições** inerentes ao nosso problema que o **solver** também deve levar em conta.\n",
        "\n",
        "Uma das **restrições** é a de quantidade máxima disponível de cada componente, podemos expressá-las da seguinte forma:\n",
        "\n",
        "<p align='center'>\n",
        "$X_{gca1} + X_{gcb1} + X_{gcc1} \\le 10000$\n",
        "</p>\n",
        "<p align='center'>\n",
        "$X_{gca2} + X_{gcb2} + X_{gcc2} \\le 15000$\n",
        "</p>\n",
        "\n",
        "Veja que no código abaixo, utilizamos novamente o `sum()` e o *for*. Além disso, perceba que toda restrição é definida por uma **inequação** , ou seja, o lado esquerdo deve ser: $\\le, \\ge$ ou $=$ ao lado direito. \n",
        "\n",
        "<p align='center'>\n",
        "<img src=\"https://github.com/FerrazThales/Artigos/blob/main/PL_Pyomo/pyomo.drawio%20(7).png?raw=true\" width='40%'>\n",
        "</p>"
      ],
      "metadata": {
        "id": "OBxNQoBVQj-k"
      }
    },
    {
      "cell_type": "code",
      "source": [
        "# restrição de componentes planejados para a compra\n",
        "model.rest_plan1 = pyo.Constraint(expr = sum(model.x[i,1] for i in model.i) <= model.planejado[1]) # componente 1 \n",
        "model.rest_plan2 = pyo.Constraint(expr = sum(model.x[i,2] for i in model.i) <= model.planejado[2]) # componente 2"
      ],
      "metadata": {
        "id": "09nkTXQkQlET"
      },
      "execution_count": 13,
      "outputs": []
    },
    {
      "cell_type": "markdown",
      "source": [
        "Às vezes, as restrições são um pouco **repetitivas** e mudam apenas os índices das variáveis e dos parâmetros. Nestes casos, podemos utilizar o método `pyo.ConstraintList`. No exemplo do código abaixo, utilizamos uma *ConstraintList* para definir as restrições de demanda de cada produto."
      ],
      "metadata": {
        "id": "zjpGITsTfFVV"
      }
    },
    {
      "cell_type": "code",
      "source": [
        "# instanciando uma restrição por lista\n",
        "model.rest_prod = pyo.ConstraintList()\n",
        "for i in model.i:\n",
        "  model.rest_prod.add(expr = sum(model.x[i,j] for j in model.j) >= model.producao_componentes[i])"
      ],
      "metadata": {
        "id": "0nGf_ZExeTjA"
      },
      "execution_count": 14,
      "outputs": []
    },
    {
      "cell_type": "code",
      "source": [
        "# visualizando apenas a restrição por lista\n",
        "model.rest_prod.pprint()"
      ],
      "metadata": {
        "colab": {
          "base_uri": "https://localhost:8080/"
        },
        "id": "ZRaQHpaEeTlM",
        "outputId": "ed7b2d4d-6cb9-492b-fe97-3aee9ba9ad90"
      },
      "execution_count": 15,
      "outputs": [
        {
          "output_type": "stream",
          "name": "stdout",
          "text": [
            "rest_prod : Size=3, Index=rest_prod_index, Active=True\n",
            "    Key : Lower  : Body                : Upper : Active\n",
            "      1 : 6000.0 : x[GCA,1] + x[GCA,2] :  +Inf :   True\n",
            "      2 : 7000.0 : x[GCB,1] + x[GCB,2] :  +Inf :   True\n",
            "      3 : 9000.0 : x[GCC,1] + x[GCC,2] :  +Inf :   True\n"
          ]
        }
      ]
    },
    {
      "cell_type": "markdown",
      "source": [
        "**Outra** maneira de fornecer a restrição do problema, é através do parâmetro `rule`. Para utilizá-lo, definimos uma **função** que **retorna** a expressão matemática que será utilizada como restrição."
      ],
      "metadata": {
        "id": "u0kZR9EgZc3m"
      }
    },
    {
      "cell_type": "code",
      "source": [
        "# adicionando a restrição do elemento critico através de funções\n",
        "def Restricao_GCA(model):\n",
        "  return sum(model.x['GCA',j] * model.proporcao_critico[j] for j in model.j) >= 0.3 * sum(model.x['GCA',j] for j in model.j)\n",
        "model.rest_gca  = pyo.Constraint(rule = Restricao_GCA)"
      ],
      "metadata": {
        "id": "iKWg44SIeTnh"
      },
      "execution_count": 16,
      "outputs": []
    },
    {
      "cell_type": "markdown",
      "source": [
        "Por fim, adicionamos as demais restrições do problema e visualizamos como está se estruturando nosso modelo através do método `model.pprint()`. É importante ressaltar que podemos definir as restrições **manualmente**, tais como fizemos na restrição da proporção mínima no código abaixo. No entanto, este é um processo moroso e que pode acarretar problemas por falta de atenção."
      ],
      "metadata": {
        "id": "7xzX1pEJ93wb"
      }
    },
    {
      "cell_type": "code",
      "source": [
        "# adicionando restrição do gcb\n",
        "model.rest_gcb = pyo.Constraint(expr = sum(model.x['GCB',j] * model.proporcao_critico[j] for j in model.j) <= 0.3 * sum(model.x['GCB',j] for j in model.j))\n",
        "\n",
        "# adicionando restrição da proporção mínima\n",
        "model.rest_gcc = pyo.Constraint(expr = model.x['GCC',1] >= 0.3 * model.x['GCC',2])"
      ],
      "metadata": {
        "id": "iby7MqoHZf3q"
      },
      "execution_count": 17,
      "outputs": []
    },
    {
      "cell_type": "code",
      "source": [
        "# visualizando tudo o que foi feito até agora\n",
        "model.pprint()"
      ],
      "metadata": {
        "colab": {
          "base_uri": "https://localhost:8080/"
        },
        "id": "1fOW5Yxjafs7",
        "outputId": "1548552c-abed-4587-c48f-0849db885fc4"
      },
      "execution_count": 18,
      "outputs": [
        {
          "output_type": "stream",
          "name": "stdout",
          "text": [
            "3 Set Declarations\n",
            "    i : Size=1, Index=None, Ordered=Insertion\n",
            "        Key  : Dimen : Domain : Size : Members\n",
            "        None :     1 :    Any :    3 : {'GCA', 'GCB', 'GCC'}\n",
            "    rest_prod_index : Size=1, Index=None, Ordered=Insertion\n",
            "        Key  : Dimen : Domain : Size : Members\n",
            "        None :     1 :    Any :    3 : {1, 2, 3}\n",
            "    x_index : Size=1, Index=None, Ordered=True\n",
            "        Key  : Dimen : Domain : Size : Members\n",
            "        None :     2 :    i*j :    6 : {('GCA', 1), ('GCA', 2), ('GCB', 1), ('GCB', 2), ('GCC', 1), ('GCC', 2)}\n",
            "\n",
            "1 RangeSet Declarations\n",
            "    j : Dimen=1, Size=2, Bounds=(1, 2)\n",
            "        Key  : Finite : Members\n",
            "        None :   True :   [1:2]\n",
            "\n",
            "4 Param Declarations\n",
            "    lucro : Size=3, Index=i, Domain=Any, Default=None, Mutable=False\n",
            "        Key : Value\n",
            "        GCA :   125\n",
            "        GCB :   135\n",
            "        GCC :   155\n",
            "    planejado : Size=2, Index=j, Domain=Any, Default=None, Mutable=False\n",
            "        Key : Value\n",
            "          1 : 10000\n",
            "          2 : 15000\n",
            "    producao_componentes : Size=3, Index=i, Domain=Any, Default=None, Mutable=False\n",
            "        Key : Value\n",
            "        GCA :  6000\n",
            "        GCB :  7000\n",
            "        GCC :  9000\n",
            "    proporcao_critico : Size=2, Index=j, Domain=Any, Default=None, Mutable=False\n",
            "        Key : Value\n",
            "          1 :   0.4\n",
            "          2 :   0.2\n",
            "\n",
            "1 Var Declarations\n",
            "    x : Size=6, Index=x_index\n",
            "        Key        : Lower : Value : Upper : Fixed : Stale : Domain\n",
            "        ('GCA', 1) :     0 :  None :  None : False :  True : NonNegativeReals\n",
            "        ('GCA', 2) :     0 :  None :  None : False :  True : NonNegativeReals\n",
            "        ('GCB', 1) :     0 :  None :  None : False :  True : NonNegativeReals\n",
            "        ('GCB', 2) :     0 :  None :  None : False :  True : NonNegativeReals\n",
            "        ('GCC', 1) :     0 :  None :  None : False :  True : NonNegativeReals\n",
            "        ('GCC', 2) :     0 :  None :  None : False :  True : NonNegativeReals\n",
            "\n",
            "1 Objective Declarations\n",
            "    obj : Size=1, Index=None, Active=True\n",
            "        Key  : Active : Sense    : Expression\n",
            "        None :   True : maximize : 125*x[GCA,1] + 125*x[GCA,2] + 135*x[GCB,1] + 135*x[GCB,2] + 155*x[GCC,1] + 155*x[GCC,2]\n",
            "\n",
            "6 Constraint Declarations\n",
            "    rest_gca : Size=1, Index=None, Active=True\n",
            "        Key  : Lower : Body                                                      : Upper : Active\n",
            "        None :  -Inf : 0.3*(x[GCA,1] + x[GCA,2]) - (0.4*x[GCA,1] + 0.2*x[GCA,2]) :   0.0 :   True\n",
            "    rest_gcb : Size=1, Index=None, Active=True\n",
            "        Key  : Lower : Body                                                    : Upper : Active\n",
            "        None :  -Inf : 0.4*x[GCB,1] + 0.2*x[GCB,2] - 0.3*(x[GCB,1] + x[GCB,2]) :   0.0 :   True\n",
            "    rest_gcc : Size=1, Index=None, Active=True\n",
            "        Key  : Lower : Body                    : Upper : Active\n",
            "        None :  -Inf : 0.3*x[GCC,2] - x[GCC,1] :   0.0 :   True\n",
            "    rest_plan1 : Size=1, Index=None, Active=True\n",
            "        Key  : Lower : Body                           : Upper   : Active\n",
            "        None :  -Inf : x[GCA,1] + x[GCB,1] + x[GCC,1] : 10000.0 :   True\n",
            "    rest_plan2 : Size=1, Index=None, Active=True\n",
            "        Key  : Lower : Body                           : Upper   : Active\n",
            "        None :  -Inf : x[GCA,2] + x[GCB,2] + x[GCC,2] : 15000.0 :   True\n",
            "    rest_prod : Size=3, Index=rest_prod_index, Active=True\n",
            "        Key : Lower  : Body                : Upper : Active\n",
            "          1 : 6000.0 : x[GCA,1] + x[GCA,2] :  +Inf :   True\n",
            "          2 : 7000.0 : x[GCB,1] + x[GCB,2] :  +Inf :   True\n",
            "          3 : 9000.0 : x[GCC,1] + x[GCC,2] :  +Inf :   True\n",
            "\n",
            "16 Declarations: i j planejado producao_componentes proporcao_critico lucro x_index x obj rest_plan1 rest_plan2 rest_prod_index rest_prod rest_gca rest_gcb rest_gcc\n"
          ]
        }
      ]
    },
    {
      "cell_type": "markdown",
      "source": [
        "## Solver\n",
        "\n",
        "Pronto, nosso modelo está finalizado e aguardando ser **resolvido**. O Pyomo não consegue ter a resolução de um modelo sozinho. Por conta disso, é neste momento que entra o **Solver**! \n",
        "\n",
        "Como se trata de um problema de **programação linear**, utilizaremos o solver [GLPK](GNU_Linear_Programming_Kit). Além dos problemas de PL, este **Solver** é utilizado para problemas de programação mista (MIP). Se você quiser saber mais desta ferramenta criada por **Andrew O. Makhorin** dê uma olhada em sua [documentação técnica](https://www.ime.unicamp.br/~moretti/ms428/1sem2006/simplex.pdf).\n",
        "\n",
        "Voltando ao nosso problema, necessitamos instanciar o *Solver* e resolver nosso modelo. Tudo isso está feito nos códigos abaixo!\n",
        "\n",
        "**Obs: Note que adicionamos o parâmetro `tee=True` para visualizar se os resultados se encontram em regiões ótimas. Você também pode verificar o status do solver, de outra maneira, dando uma olhada neste** [link](http://www.pyomo.org/blog/2015/1/8/accessing-solver)."
      ],
      "metadata": {
        "id": "WFyhmPzpQwlS"
      }
    },
    {
      "cell_type": "code",
      "source": [
        "# instanciando o Solver\n",
        "opt = SolverFactory('glpk')"
      ],
      "metadata": {
        "id": "Pn2JAFjoQx-d"
      },
      "execution_count": 19,
      "outputs": []
    },
    {
      "cell_type": "code",
      "source": [
        "# aplicando o solver GLPK\n",
        "results = opt.solve(model, # nosso modelo feito no Pyomo\n",
        "                    tee=True) # quando instanciado como True retorna o status"
      ],
      "metadata": {
        "colab": {
          "base_uri": "https://localhost:8080/"
        },
        "id": "tQfUanwxbguW",
        "outputId": "84c6e900-6696-4b34-9212-1814e72194b3"
      },
      "execution_count": 20,
      "outputs": [
        {
          "output_type": "stream",
          "name": "stdout",
          "text": [
            "GLPSOL: GLPK LP/MIP Solver, v4.65\n",
            "Parameter(s) specified in the command line:\n",
            " --write /tmp/tmp9cog76ql.glpk.raw --wglp /tmp/tmpfngb6zqn.glpk.glp --cpxlp\n",
            " /tmp/tmpmb3aa_50.pyomo.lp\n",
            "Reading problem data from '/tmp/tmpmb3aa_50.pyomo.lp'...\n",
            "9 rows, 7 columns, 19 non-zeros\n",
            "66 lines were read\n",
            "Writing problem data to '/tmp/tmpfngb6zqn.glpk.glp'...\n",
            "53 lines were written\n",
            "GLPK Simplex Optimizer, v4.65\n",
            "9 rows, 7 columns, 19 non-zeros\n",
            "Preprocessing...\n",
            "8 rows, 6 columns, 18 non-zeros\n",
            "Scaling...\n",
            " A: min|aij| =  1.000e-01  max|aij| =  1.000e+00  ratio =  1.000e+01\n",
            "GM: min|aij| =  7.401e-01  max|aij| =  1.351e+00  ratio =  1.826e+00\n",
            "EQ: min|aij| =  5.477e-01  max|aij| =  1.000e+00  ratio =  1.826e+00\n",
            "Constructing initial basis...\n",
            "Size of triangular part is 8\n",
            "      0: obj =  -0.000000000e+00 inf =   1.872e+04 (3)\n",
            "      6: obj =   3.090000000e+06 inf =   0.000e+00 (0)\n",
            "*     9: obj =   3.555000000e+06 inf =   0.000e+00 (0)\n",
            "OPTIMAL LP SOLUTION FOUND\n",
            "Time used:   0.0 secs\n",
            "Memory used: 0.0 Mb (41927 bytes)\n",
            "Writing basic solution to '/tmp/tmp9cog76ql.glpk.raw'...\n",
            "25 lines were written\n"
          ]
        }
      ]
    },
    {
      "cell_type": "markdown",
      "source": [
        "## Visualizando os resultados\n",
        "\n",
        "Show! Nosso modelo encontrou um resultado ótimo para nosso problema de programação linear. Agora precisamos ver os valores resultantes de cada **variável** e da **função objetivo**!\n",
        "\n",
        "\n",
        "**Obs: Repare nos parênteses para encontrar os valores das variáveis desconhecidas** \n",
        "<p align='center'> $model.x[x]()$</p>"
      ],
      "metadata": {
        "id": "f-MqyztiQyZX"
      }
    },
    {
      "cell_type": "code",
      "source": [
        "# visualizando os resultados\n",
        "for x in model.x:\n",
        "  print(model.x[x], # retorna apenas o símbolo \n",
        "        '=',\n",
        "        model.x[x]()) # retorna o valor"
      ],
      "metadata": {
        "colab": {
          "base_uri": "https://localhost:8080/"
        },
        "id": "OmGq-OTxcD3g",
        "outputId": "89516bab-0493-4c01-feb9-465ffff4b571"
      },
      "execution_count": 21,
      "outputs": [
        {
          "output_type": "stream",
          "name": "stdout",
          "text": [
            "x[GCA,1] = 3730.76923076923\n",
            "x[GCA,2] = 2269.23076923077\n",
            "x[GCB,1] = 3500.0\n",
            "x[GCB,2] = 3500.0\n",
            "x[GCC,1] = 2769.23076923077\n",
            "x[GCC,2] = 9230.76923076923\n"
          ]
        }
      ]
    },
    {
      "cell_type": "code",
      "source": [
        "# resultado da função obj\n",
        "print('Função objetivo = $', model.obj())"
      ],
      "metadata": {
        "colab": {
          "base_uri": "https://localhost:8080/"
        },
        "id": "spKhK-cwcpOg",
        "outputId": "cc291770-4583-426f-9fd9-583bb8fbfe15"
      },
      "execution_count": 23,
      "outputs": [
        {
          "output_type": "stream",
          "name": "stdout",
          "text": [
            "Função objetivo = $ 3555000.0\n"
          ]
        }
      ]
    },
    {
      "cell_type": "markdown",
      "source": [
        "# Considerações Finais\n",
        "Artigo **concluído**! Entendemos um pouco do que é pesquisa operacional e da **programação linear**. Depois disso, visitamos cada uma das principais **classes** da biblioteca de otimização, o **Pyomo**, para construir nosso modelo. Por fim, aplicamos o modelo obtido em um **Solver** para resolver o nosso problema através de **algoritmos**."
      ],
      "metadata": {
        "id": "3eB0DXfJcUvU"
      }
    },
    {
      "cell_type": "markdown",
      "source": [
        "# Referências Bibliográficas\n",
        "\n",
        "\n",
        "* [História da Programação Linear](https://sites.google.com/view/programacao-linear/hist%C3%B3ria-da-programa%C3%A7%C3%A3o-linear)\n",
        "\n",
        "* LINS, Marcos; CALÔBA, Guilherme. **PROGRAMAÇÃO LINEAR**: com aplicações em teoria dos jogos e avaliação de desempenho. Rio de Janeiro: INTERCIÊNCIA, 2006.\n",
        "\n",
        "* HILLIER, Frederick; LIEBERMAN, Gerald. **INTRODUÇÃO À PESQUISA OPERACIONAL**. 9. ed.: Bookman, 2012.\n",
        "\n",
        "* ACKOFF, Russel; SASIENI, Maurice. **Pesquisa Operacional**. Rio de Janeiro: 1975.\n",
        "\n",
        "* Taha, Hamdy A., **Pesquisa Operacional**, 8a. Edição, São Paulo, Pearson, 2008"
      ],
      "metadata": {
        "id": "dtTHjjH-vR8U"
      }
    }
  ]
}